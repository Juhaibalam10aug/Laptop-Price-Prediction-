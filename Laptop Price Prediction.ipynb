{
 "cells": [
  {
   "cell_type": "code",
   "execution_count": 1,
   "id": "198c1303",
   "metadata": {},
   "outputs": [],
   "source": [
    "import warnings\n",
    "warnings.filterwarnings(\"ignore\")"
   ]
  },
  {
   "cell_type": "code",
   "execution_count": 2,
   "id": "71f09037",
   "metadata": {},
   "outputs": [],
   "source": [
    "import pandas as pd \n",
    "import numpy as np\n",
    "import matplotlib.pyplot as plt\n",
    "import seaborn as sns"
   ]
  },
  {
   "cell_type": "code",
   "execution_count": 3,
   "id": "d83d8e4b",
   "metadata": {},
   "outputs": [],
   "source": [
    "# importing data set\n",
    "data=pd.read_csv(\"laptop_data.csv\")"
   ]
  },
  {
   "cell_type": "code",
   "execution_count": 4,
   "id": "9870946d",
   "metadata": {},
   "outputs": [
    {
     "data": {
      "text/html": [
       "<div>\n",
       "<style scoped>\n",
       "    .dataframe tbody tr th:only-of-type {\n",
       "        vertical-align: middle;\n",
       "    }\n",
       "\n",
       "    .dataframe tbody tr th {\n",
       "        vertical-align: top;\n",
       "    }\n",
       "\n",
       "    .dataframe thead th {\n",
       "        text-align: right;\n",
       "    }\n",
       "</style>\n",
       "<table border=\"1\" class=\"dataframe\">\n",
       "  <thead>\n",
       "    <tr style=\"text-align: right;\">\n",
       "      <th></th>\n",
       "      <th>Unnamed: 0</th>\n",
       "      <th>Company</th>\n",
       "      <th>TypeName</th>\n",
       "      <th>Inches</th>\n",
       "      <th>ScreenResolution</th>\n",
       "      <th>Cpu</th>\n",
       "      <th>Ram</th>\n",
       "      <th>Memory</th>\n",
       "      <th>Gpu</th>\n",
       "      <th>OpSys</th>\n",
       "      <th>Weight</th>\n",
       "      <th>Price</th>\n",
       "    </tr>\n",
       "  </thead>\n",
       "  <tbody>\n",
       "    <tr>\n",
       "      <th>0</th>\n",
       "      <td>0</td>\n",
       "      <td>Apple</td>\n",
       "      <td>Ultrabook</td>\n",
       "      <td>13.3</td>\n",
       "      <td>IPS Panel Retina Display 2560x1600</td>\n",
       "      <td>Intel Core i5 2.3GHz</td>\n",
       "      <td>8GB</td>\n",
       "      <td>128GB SSD</td>\n",
       "      <td>Intel Iris Plus Graphics 640</td>\n",
       "      <td>macOS</td>\n",
       "      <td>1.37kg</td>\n",
       "      <td>71378.6832</td>\n",
       "    </tr>\n",
       "    <tr>\n",
       "      <th>1</th>\n",
       "      <td>1</td>\n",
       "      <td>Apple</td>\n",
       "      <td>Ultrabook</td>\n",
       "      <td>13.3</td>\n",
       "      <td>1440x900</td>\n",
       "      <td>Intel Core i5 1.8GHz</td>\n",
       "      <td>8GB</td>\n",
       "      <td>128GB Flash Storage</td>\n",
       "      <td>Intel HD Graphics 6000</td>\n",
       "      <td>macOS</td>\n",
       "      <td>1.34kg</td>\n",
       "      <td>47895.5232</td>\n",
       "    </tr>\n",
       "    <tr>\n",
       "      <th>2</th>\n",
       "      <td>2</td>\n",
       "      <td>HP</td>\n",
       "      <td>Notebook</td>\n",
       "      <td>15.6</td>\n",
       "      <td>Full HD 1920x1080</td>\n",
       "      <td>Intel Core i5 7200U 2.5GHz</td>\n",
       "      <td>8GB</td>\n",
       "      <td>256GB SSD</td>\n",
       "      <td>Intel HD Graphics 620</td>\n",
       "      <td>No OS</td>\n",
       "      <td>1.86kg</td>\n",
       "      <td>30636.0000</td>\n",
       "    </tr>\n",
       "    <tr>\n",
       "      <th>3</th>\n",
       "      <td>3</td>\n",
       "      <td>Apple</td>\n",
       "      <td>Ultrabook</td>\n",
       "      <td>15.4</td>\n",
       "      <td>IPS Panel Retina Display 2880x1800</td>\n",
       "      <td>Intel Core i7 2.7GHz</td>\n",
       "      <td>16GB</td>\n",
       "      <td>512GB SSD</td>\n",
       "      <td>AMD Radeon Pro 455</td>\n",
       "      <td>macOS</td>\n",
       "      <td>1.83kg</td>\n",
       "      <td>135195.3360</td>\n",
       "    </tr>\n",
       "    <tr>\n",
       "      <th>4</th>\n",
       "      <td>4</td>\n",
       "      <td>Apple</td>\n",
       "      <td>Ultrabook</td>\n",
       "      <td>13.3</td>\n",
       "      <td>IPS Panel Retina Display 2560x1600</td>\n",
       "      <td>Intel Core i5 3.1GHz</td>\n",
       "      <td>8GB</td>\n",
       "      <td>256GB SSD</td>\n",
       "      <td>Intel Iris Plus Graphics 650</td>\n",
       "      <td>macOS</td>\n",
       "      <td>1.37kg</td>\n",
       "      <td>96095.8080</td>\n",
       "    </tr>\n",
       "  </tbody>\n",
       "</table>\n",
       "</div>"
      ],
      "text/plain": [
       "   Unnamed: 0 Company   TypeName  Inches                    ScreenResolution  \\\n",
       "0           0   Apple  Ultrabook    13.3  IPS Panel Retina Display 2560x1600   \n",
       "1           1   Apple  Ultrabook    13.3                            1440x900   \n",
       "2           2      HP   Notebook    15.6                   Full HD 1920x1080   \n",
       "3           3   Apple  Ultrabook    15.4  IPS Panel Retina Display 2880x1800   \n",
       "4           4   Apple  Ultrabook    13.3  IPS Panel Retina Display 2560x1600   \n",
       "\n",
       "                          Cpu   Ram               Memory  \\\n",
       "0        Intel Core i5 2.3GHz   8GB            128GB SSD   \n",
       "1        Intel Core i5 1.8GHz   8GB  128GB Flash Storage   \n",
       "2  Intel Core i5 7200U 2.5GHz   8GB            256GB SSD   \n",
       "3        Intel Core i7 2.7GHz  16GB            512GB SSD   \n",
       "4        Intel Core i5 3.1GHz   8GB            256GB SSD   \n",
       "\n",
       "                            Gpu  OpSys  Weight        Price  \n",
       "0  Intel Iris Plus Graphics 640  macOS  1.37kg   71378.6832  \n",
       "1        Intel HD Graphics 6000  macOS  1.34kg   47895.5232  \n",
       "2         Intel HD Graphics 620  No OS  1.86kg   30636.0000  \n",
       "3            AMD Radeon Pro 455  macOS  1.83kg  135195.3360  \n",
       "4  Intel Iris Plus Graphics 650  macOS  1.37kg   96095.8080  "
      ]
     },
     "execution_count": 4,
     "metadata": {},
     "output_type": "execute_result"
    }
   ],
   "source": [
    "data.head()"
   ]
  },
  {
   "cell_type": "code",
   "execution_count": 5,
   "id": "1a3dd412",
   "metadata": {},
   "outputs": [
    {
     "data": {
      "text/plain": [
       "(1303, 12)"
      ]
     },
     "execution_count": 5,
     "metadata": {},
     "output_type": "execute_result"
    }
   ],
   "source": [
    "data.shape"
   ]
  },
  {
   "cell_type": "code",
   "execution_count": 6,
   "id": "8f5e86bf",
   "metadata": {},
   "outputs": [
    {
     "name": "stdout",
     "output_type": "stream",
     "text": [
      "<class 'pandas.core.frame.DataFrame'>\n",
      "RangeIndex: 1303 entries, 0 to 1302\n",
      "Data columns (total 12 columns):\n",
      " #   Column            Non-Null Count  Dtype  \n",
      "---  ------            --------------  -----  \n",
      " 0   Unnamed: 0        1303 non-null   int64  \n",
      " 1   Company           1303 non-null   object \n",
      " 2   TypeName          1303 non-null   object \n",
      " 3   Inches            1303 non-null   float64\n",
      " 4   ScreenResolution  1303 non-null   object \n",
      " 5   Cpu               1303 non-null   object \n",
      " 6   Ram               1303 non-null   object \n",
      " 7   Memory            1303 non-null   object \n",
      " 8   Gpu               1303 non-null   object \n",
      " 9   OpSys             1303 non-null   object \n",
      " 10  Weight            1303 non-null   object \n",
      " 11  Price             1303 non-null   float64\n",
      "dtypes: float64(2), int64(1), object(9)\n",
      "memory usage: 122.3+ KB\n"
     ]
    }
   ],
   "source": [
    "data.info()"
   ]
  },
  {
   "cell_type": "code",
   "execution_count": 7,
   "id": "dcdcf6b3",
   "metadata": {},
   "outputs": [
    {
     "data": {
      "text/plain": [
       "Unnamed: 0          0\n",
       "Company             0\n",
       "TypeName            0\n",
       "Inches              0\n",
       "ScreenResolution    0\n",
       "Cpu                 0\n",
       "Ram                 0\n",
       "Memory              0\n",
       "Gpu                 0\n",
       "OpSys               0\n",
       "Weight              0\n",
       "Price               0\n",
       "dtype: int64"
      ]
     },
     "execution_count": 7,
     "metadata": {},
     "output_type": "execute_result"
    }
   ],
   "source": [
    "# Checking null values\n",
    "data.isnull().sum()"
   ]
  },
  {
   "cell_type": "code",
   "execution_count": 8,
   "id": "71ee5c8c",
   "metadata": {},
   "outputs": [],
   "source": [
    "#There is one column which not useful that's why dropping it\n",
    "data = data.drop(columns =\"Unnamed: 0\")"
   ]
  },
  {
   "cell_type": "code",
   "execution_count": 9,
   "id": "b3da4ba7",
   "metadata": {},
   "outputs": [
    {
     "data": {
      "text/html": [
       "<div>\n",
       "<style scoped>\n",
       "    .dataframe tbody tr th:only-of-type {\n",
       "        vertical-align: middle;\n",
       "    }\n",
       "\n",
       "    .dataframe tbody tr th {\n",
       "        vertical-align: top;\n",
       "    }\n",
       "\n",
       "    .dataframe thead th {\n",
       "        text-align: right;\n",
       "    }\n",
       "</style>\n",
       "<table border=\"1\" class=\"dataframe\">\n",
       "  <thead>\n",
       "    <tr style=\"text-align: right;\">\n",
       "      <th></th>\n",
       "      <th>Company</th>\n",
       "      <th>TypeName</th>\n",
       "      <th>Inches</th>\n",
       "      <th>ScreenResolution</th>\n",
       "      <th>Cpu</th>\n",
       "      <th>Ram</th>\n",
       "      <th>Memory</th>\n",
       "      <th>Gpu</th>\n",
       "      <th>OpSys</th>\n",
       "      <th>Weight</th>\n",
       "      <th>Price</th>\n",
       "    </tr>\n",
       "  </thead>\n",
       "  <tbody>\n",
       "    <tr>\n",
       "      <th>587</th>\n",
       "      <td>Lenovo</td>\n",
       "      <td>Ultrabook</td>\n",
       "      <td>14.0</td>\n",
       "      <td>IPS Panel Full HD 1920x1080</td>\n",
       "      <td>Intel Core i7 6600U 2.6GHz</td>\n",
       "      <td>12GB</td>\n",
       "      <td>256GB SSD</td>\n",
       "      <td>Intel HD Graphics 520</td>\n",
       "      <td>Windows 10</td>\n",
       "      <td>1.4kg</td>\n",
       "      <td>89137.44</td>\n",
       "    </tr>\n",
       "    <tr>\n",
       "      <th>600</th>\n",
       "      <td>HP</td>\n",
       "      <td>Notebook</td>\n",
       "      <td>15.6</td>\n",
       "      <td>Full HD 1920x1080</td>\n",
       "      <td>Intel Core i7 7500U 2.7GHz</td>\n",
       "      <td>8GB</td>\n",
       "      <td>256GB SSD</td>\n",
       "      <td>Intel HD Graphics 620</td>\n",
       "      <td>Windows 10</td>\n",
       "      <td>1.84kg</td>\n",
       "      <td>64948.32</td>\n",
       "    </tr>\n",
       "    <tr>\n",
       "      <th>690</th>\n",
       "      <td>Acer</td>\n",
       "      <td>Notebook</td>\n",
       "      <td>14.0</td>\n",
       "      <td>1366x768</td>\n",
       "      <td>Intel Celeron Dual Core 3855U 1.6GHz</td>\n",
       "      <td>4GB</td>\n",
       "      <td>32GB Flash Storage</td>\n",
       "      <td>Intel HD Graphics 510</td>\n",
       "      <td>Chrome OS</td>\n",
       "      <td>1.45kg</td>\n",
       "      <td>19980.00</td>\n",
       "    </tr>\n",
       "    <tr>\n",
       "      <th>260</th>\n",
       "      <td>Dell</td>\n",
       "      <td>Notebook</td>\n",
       "      <td>17.3</td>\n",
       "      <td>Full HD 1920x1080</td>\n",
       "      <td>Intel Core i7 8550U 1.8GHz</td>\n",
       "      <td>8GB</td>\n",
       "      <td>128GB SSD +  1TB HDD</td>\n",
       "      <td>AMD Radeon 530</td>\n",
       "      <td>Windows 10</td>\n",
       "      <td>2.8kg</td>\n",
       "      <td>60845.76</td>\n",
       "    </tr>\n",
       "    <tr>\n",
       "      <th>477</th>\n",
       "      <td>Lenovo</td>\n",
       "      <td>Notebook</td>\n",
       "      <td>14.0</td>\n",
       "      <td>Full HD 1920x1080</td>\n",
       "      <td>Intel Core i5 7200U 2.5GHz</td>\n",
       "      <td>8GB</td>\n",
       "      <td>180GB SSD</td>\n",
       "      <td>Intel HD Graphics 620</td>\n",
       "      <td>Windows 10</td>\n",
       "      <td>1.7kg</td>\n",
       "      <td>72673.92</td>\n",
       "    </tr>\n",
       "  </tbody>\n",
       "</table>\n",
       "</div>"
      ],
      "text/plain": [
       "    Company   TypeName  Inches             ScreenResolution  \\\n",
       "587  Lenovo  Ultrabook    14.0  IPS Panel Full HD 1920x1080   \n",
       "600      HP   Notebook    15.6            Full HD 1920x1080   \n",
       "690    Acer   Notebook    14.0                     1366x768   \n",
       "260    Dell   Notebook    17.3            Full HD 1920x1080   \n",
       "477  Lenovo   Notebook    14.0            Full HD 1920x1080   \n",
       "\n",
       "                                      Cpu   Ram                Memory  \\\n",
       "587            Intel Core i7 6600U 2.6GHz  12GB             256GB SSD   \n",
       "600            Intel Core i7 7500U 2.7GHz   8GB             256GB SSD   \n",
       "690  Intel Celeron Dual Core 3855U 1.6GHz   4GB    32GB Flash Storage   \n",
       "260            Intel Core i7 8550U 1.8GHz   8GB  128GB SSD +  1TB HDD   \n",
       "477            Intel Core i5 7200U 2.5GHz   8GB             180GB SSD   \n",
       "\n",
       "                       Gpu       OpSys  Weight     Price  \n",
       "587  Intel HD Graphics 520  Windows 10   1.4kg  89137.44  \n",
       "600  Intel HD Graphics 620  Windows 10  1.84kg  64948.32  \n",
       "690  Intel HD Graphics 510   Chrome OS  1.45kg  19980.00  \n",
       "260         AMD Radeon 530  Windows 10   2.8kg  60845.76  \n",
       "477  Intel HD Graphics 620  Windows 10   1.7kg  72673.92  "
      ]
     },
     "execution_count": 9,
     "metadata": {},
     "output_type": "execute_result"
    }
   ],
   "source": [
    "data.sample(5)"
   ]
  },
  {
   "cell_type": "code",
   "execution_count": 10,
   "id": "0282ccb0",
   "metadata": {},
   "outputs": [
    {
     "data": {
      "text/plain": [
       "29"
      ]
     },
     "execution_count": 10,
     "metadata": {},
     "output_type": "execute_result"
    }
   ],
   "source": [
    "# Checking duplicate\n",
    "data.duplicated().sum()"
   ]
  },
  {
   "cell_type": "code",
   "execution_count": 11,
   "id": "41e16981",
   "metadata": {},
   "outputs": [],
   "source": [
    "# removing duplicate\n",
    "data = data.drop_duplicates()"
   ]
  },
  {
   "cell_type": "code",
   "execution_count": 12,
   "id": "ce9dc2ac",
   "metadata": {},
   "outputs": [],
   "source": [
    "#removing KG from Weight column and GB from Ram Column\n",
    "data[\"Ram\"] = data[\"Ram\"].str.replace(\"GB\",\"\")\n",
    "data[\"Weight\"] = data[\"Weight\"].str.replace(\"kg\",\"\")"
   ]
  },
  {
   "cell_type": "code",
   "execution_count": 13,
   "id": "dae49e0d",
   "metadata": {},
   "outputs": [
    {
     "data": {
      "text/html": [
       "<div>\n",
       "<style scoped>\n",
       "    .dataframe tbody tr th:only-of-type {\n",
       "        vertical-align: middle;\n",
       "    }\n",
       "\n",
       "    .dataframe tbody tr th {\n",
       "        vertical-align: top;\n",
       "    }\n",
       "\n",
       "    .dataframe thead th {\n",
       "        text-align: right;\n",
       "    }\n",
       "</style>\n",
       "<table border=\"1\" class=\"dataframe\">\n",
       "  <thead>\n",
       "    <tr style=\"text-align: right;\">\n",
       "      <th></th>\n",
       "      <th>Company</th>\n",
       "      <th>TypeName</th>\n",
       "      <th>Inches</th>\n",
       "      <th>ScreenResolution</th>\n",
       "      <th>Cpu</th>\n",
       "      <th>Ram</th>\n",
       "      <th>Memory</th>\n",
       "      <th>Gpu</th>\n",
       "      <th>OpSys</th>\n",
       "      <th>Weight</th>\n",
       "      <th>Price</th>\n",
       "    </tr>\n",
       "  </thead>\n",
       "  <tbody>\n",
       "    <tr>\n",
       "      <th>1259</th>\n",
       "      <td>MSI</td>\n",
       "      <td>Gaming</td>\n",
       "      <td>15.6</td>\n",
       "      <td>Full HD 1920x1080</td>\n",
       "      <td>Intel Core i7 6700HQ 2.6GHz</td>\n",
       "      <td>8</td>\n",
       "      <td>128GB SSD +  1TB HDD</td>\n",
       "      <td>Nvidia GeForce GTX 960M</td>\n",
       "      <td>Windows 10</td>\n",
       "      <td>2.4</td>\n",
       "      <td>65481.1200</td>\n",
       "    </tr>\n",
       "    <tr>\n",
       "      <th>378</th>\n",
       "      <td>Asus</td>\n",
       "      <td>Notebook</td>\n",
       "      <td>14.0</td>\n",
       "      <td>1366x768</td>\n",
       "      <td>Intel Celeron Dual Core N3350 1.1GHz</td>\n",
       "      <td>4</td>\n",
       "      <td>32GB Flash Storage</td>\n",
       "      <td>Intel HD Graphics 500</td>\n",
       "      <td>Windows 10</td>\n",
       "      <td>1.5</td>\n",
       "      <td>15238.0800</td>\n",
       "    </tr>\n",
       "    <tr>\n",
       "      <th>1116</th>\n",
       "      <td>Lenovo</td>\n",
       "      <td>Gaming</td>\n",
       "      <td>17.3</td>\n",
       "      <td>IPS Panel Full HD 1920x1080</td>\n",
       "      <td>Intel Core i7 6820HK 2.7GHz</td>\n",
       "      <td>16</td>\n",
       "      <td>256GB SSD +  1.0TB Hybrid</td>\n",
       "      <td>Nvidia GeForce GTX 980M</td>\n",
       "      <td>Windows 10</td>\n",
       "      <td>4.6</td>\n",
       "      <td>146519.4672</td>\n",
       "    </tr>\n",
       "  </tbody>\n",
       "</table>\n",
       "</div>"
      ],
      "text/plain": [
       "     Company  TypeName  Inches             ScreenResolution  \\\n",
       "1259     MSI    Gaming    15.6            Full HD 1920x1080   \n",
       "378     Asus  Notebook    14.0                     1366x768   \n",
       "1116  Lenovo    Gaming    17.3  IPS Panel Full HD 1920x1080   \n",
       "\n",
       "                                       Cpu Ram                     Memory  \\\n",
       "1259           Intel Core i7 6700HQ 2.6GHz   8       128GB SSD +  1TB HDD   \n",
       "378   Intel Celeron Dual Core N3350 1.1GHz   4         32GB Flash Storage   \n",
       "1116           Intel Core i7 6820HK 2.7GHz  16  256GB SSD +  1.0TB Hybrid   \n",
       "\n",
       "                          Gpu       OpSys Weight        Price  \n",
       "1259  Nvidia GeForce GTX 960M  Windows 10    2.4   65481.1200  \n",
       "378     Intel HD Graphics 500  Windows 10    1.5   15238.0800  \n",
       "1116  Nvidia GeForce GTX 980M  Windows 10    4.6  146519.4672  "
      ]
     },
     "execution_count": 13,
     "metadata": {},
     "output_type": "execute_result"
    }
   ],
   "source": [
    "data.sample(3)"
   ]
  },
  {
   "cell_type": "code",
   "execution_count": 14,
   "id": "a8c31a02",
   "metadata": {},
   "outputs": [
    {
     "data": {
      "text/plain": [
       "Dell         291\n",
       "Lenovo       289\n",
       "HP           268\n",
       "Asus         151\n",
       "Acer         101\n",
       "MSI           54\n",
       "Toshiba       48\n",
       "Apple         21\n",
       "Samsung        9\n",
       "Razer          7\n",
       "Mediacom       7\n",
       "Microsoft      6\n",
       "Xiaomi         4\n",
       "Vero           4\n",
       "Chuwi          3\n",
       "Google         3\n",
       "Fujitsu        3\n",
       "LG             3\n",
       "Huawei         2\n",
       "Name: Company, dtype: int64"
      ]
     },
     "execution_count": 14,
     "metadata": {},
     "output_type": "execute_result"
    }
   ],
   "source": [
    "data[\"Company\"].value_counts()"
   ]
  },
  {
   "cell_type": "code",
   "execution_count": 15,
   "id": "e5e6bbe3",
   "metadata": {},
   "outputs": [
    {
     "data": {
      "image/png": "[encoded data removed]",
      "text/plain": [
       "<Figure size 720x504 with 1 Axes>"
      ]
     },
     "metadata": {
      "needs_background": "light"
     },
     "output_type": "display_data"
    }
   ],
   "source": [
    "plt.figure(figsize = (10,7))\n",
    "sns.barplot(x = data[\"Company\"].value_counts().index,y =data[\"Company\"].value_counts().values )\n",
    "plt.xticks(rotation = \"vertical\");"
   ]
  },
  {
   "cell_type": "markdown",
   "id": "5208ee3e",
   "metadata": {},
   "source": [
    "### Observation:- Dell, Lenovo, HP, Asus, Asus these company's laptops have been sold more "
   ]
  },
  {
   "cell_type": "code",
   "execution_count": 16,
   "id": "bf63a125",
   "metadata": {},
   "outputs": [
    {
     "data": {
      "image/png": "[encoded data removed]",
      "text/plain": [
       "<Figure size 720x504 with 1 Axes>"
      ]
     },
     "metadata": {
      "needs_background": "light"
     },
     "output_type": "display_data"
    }
   ],
   "source": [
    "plt.figure(figsize = (10,7))\n",
    "sns.barplot(x = data[\"Company\"],y = data[\"Price\"])\n",
    "plt.xticks(rotation = \"vertical\");"
   ]
  },
  {
   "cell_type": "markdown",
   "id": "ab1d4645",
   "metadata": {},
   "source": [
    "### Observation:- Razer, LG, MSI, Apple these company's laptop price is high"
   ]
  },
  {
   "cell_type": "code",
   "execution_count": 17,
   "id": "a6d53756",
   "metadata": {},
   "outputs": [
    {
     "data": {
      "text/plain": [
       "Notebook              706\n",
       "Gaming                205\n",
       "Ultrabook             194\n",
       "2 in 1 Convertible    117\n",
       "Workstation            29\n",
       "Netbook                23\n",
       "Name: TypeName, dtype: int64"
      ]
     },
     "execution_count": 17,
     "metadata": {},
     "output_type": "execute_result"
    }
   ],
   "source": [
    "data[\"TypeName\"].value_counts()"
   ]
  },
  {
   "cell_type": "code",
   "execution_count": 18,
   "id": "463478fb",
   "metadata": {},
   "outputs": [
    {
     "data": {
      "image/png": "[encoded data removed]",
      "text/plain": [
       "<Figure size 720x504 with 1 Axes>"
      ]
     },
     "metadata": {
      "needs_background": "light"
     },
     "output_type": "display_data"
    }
   ],
   "source": [
    "plt.figure(figsize = (10,7))\n",
    "sns.barplot(x = data[\"TypeName\"].value_counts().index,y =data[\"TypeName\"].value_counts().values )\n",
    "plt.xticks(rotation = \"vertical\");\n",
    "plt.title(\" Sold Laptop by Category\",fontsize = 20);"
   ]
  },
  {
   "cell_type": "code",
   "execution_count": 19,
   "id": "bee99aca",
   "metadata": {},
   "outputs": [
    {
     "data": {
      "image/png": "[encoded data removed]",
      "text/plain": [
       "<Figure size 720x504 with 1 Axes>"
      ]
     },
     "metadata": {
      "needs_background": "light"
     },
     "output_type": "display_data"
    }
   ],
   "source": [
    "plt.figure(figsize = (10,7))\n",
    "sns.barplot(x = data[\"TypeName\"],y = data[\"Price\"])\n",
    "plt.xticks(rotation = \"vertical\");\n",
    "plt.title(\"Laptop Category by Price\",fontsize = 20);"
   ]
  },
  {
   "cell_type": "code",
   "execution_count": 20,
   "id": "0cfb912b",
   "metadata": {},
   "outputs": [
    {
     "data": {
      "image/png": "[encoded data removed]",
      "text/plain": [
       "<Figure size 720x504 with 1 Axes>"
      ]
     },
     "metadata": {
      "needs_background": "light"
     },
     "output_type": "display_data"
    }
   ],
   "source": [
    "plt.figure(figsize = (10,7))\n",
    "sns.distplot(data[\"Inches\"]);"
   ]
  },
  {
   "cell_type": "code",
   "execution_count": 21,
   "id": "cd282155",
   "metadata": {},
   "outputs": [
    {
     "data": {
      "image/png": "[encoded data removed]",
      "text/plain": [
       "<Figure size 720x504 with 1 Axes>"
      ]
     },
     "metadata": {
      "needs_background": "light"
     },
     "output_type": "display_data"
    }
   ],
   "source": [
    "plt.figure(figsize = (10,7))\n",
    "sns.scatterplot(x = data[\"Inches\"], y=data[\"Price\"]);"
   ]
  },
  {
   "cell_type": "code",
   "execution_count": 22,
   "id": "82459a41",
   "metadata": {},
   "outputs": [
    {
     "data": {
      "text/plain": [
       "Full HD 1920x1080                                505\n",
       "1366x768                                         262\n",
       "IPS Panel Full HD 1920x1080                      226\n",
       "IPS Panel Full HD / Touchscreen 1920x1080         51\n",
       "Full HD / Touchscreen 1920x1080                   47\n",
       "1600x900                                          23\n",
       "Touchscreen 1366x768                              16\n",
       "Quad HD+ / Touchscreen 3200x1800                  15\n",
       "IPS Panel 4K Ultra HD 3840x2160                   12\n",
       "IPS Panel 4K Ultra HD / Touchscreen 3840x2160     11\n",
       "4K Ultra HD / Touchscreen 3840x2160               10\n",
       "4K Ultra HD 3840x2160                              7\n",
       "Touchscreen 2560x1440                              7\n",
       "IPS Panel 1366x768                                 7\n",
       "IPS Panel Retina Display 2560x1600                 6\n",
       "IPS Panel Retina Display 2304x1440                 6\n",
       "Touchscreen 2256x1504                              6\n",
       "IPS Panel Touchscreen 2560x1440                    5\n",
       "IPS Panel Quad HD+ / Touchscreen 3200x1800         4\n",
       "IPS Panel Touchscreen 1920x1200                    4\n",
       "1440x900                                           4\n",
       "IPS Panel Retina Display 2880x1800                 4\n",
       "IPS Panel 2560x1440                                4\n",
       "2560x1440                                          3\n",
       "Quad HD+ 3200x1800                                 3\n",
       "1920x1080                                          3\n",
       "Touchscreen 2400x1600                              3\n",
       "IPS Panel Quad HD+ 2560x1440                       3\n",
       "IPS Panel Touchscreen 1366x768                     3\n",
       "IPS Panel Touchscreen / 4K Ultra HD 3840x2160      2\n",
       "IPS Panel Full HD 2160x1440                        2\n",
       "IPS Panel Quad HD+ 3200x1800                       2\n",
       "IPS Panel Retina Display 2736x1824                 1\n",
       "IPS Panel Full HD 1920x1200                        1\n",
       "IPS Panel Full HD 2560x1440                        1\n",
       "IPS Panel Full HD 1366x768                         1\n",
       "Touchscreen / Full HD 1920x1080                    1\n",
       "Touchscreen / Quad HD+ 3200x1800                   1\n",
       "Touchscreen / 4K Ultra HD 3840x2160                1\n",
       "IPS Panel Touchscreen 2400x1600                    1\n",
       "Name: ScreenResolution, dtype: int64"
      ]
     },
     "execution_count": 22,
     "metadata": {},
     "output_type": "execute_result"
    }
   ],
   "source": [
    "data[\"ScreenResolution\"].value_counts()"
   ]
  },
  {
   "cell_type": "markdown",
   "id": "058500cf",
   "metadata": {},
   "source": [
    "### There are muliple category in Screen Resolution column that's why i am going to pull information from screen resolution column and create another column"
   ]
  },
  {
   "cell_type": "code",
   "execution_count": 23,
   "id": "1ebbe8dd",
   "metadata": {},
   "outputs": [],
   "source": [
    "# Creating column to know weather screen is touchscreen or not\n",
    "data[\"Touch_Screen\"] = data[\"ScreenResolution\"].apply(lambda x:1 if \"Touchscreen\" in x else 0)"
   ]
  },
  {
   "cell_type": "code",
   "execution_count": 24,
   "id": "1284165d",
   "metadata": {},
   "outputs": [
    {
     "data": {
      "text/html": [
       "<div>\n",
       "<style scoped>\n",
       "    .dataframe tbody tr th:only-of-type {\n",
       "        vertical-align: middle;\n",
       "    }\n",
       "\n",
       "    .dataframe tbody tr th {\n",
       "        vertical-align: top;\n",
       "    }\n",
       "\n",
       "    .dataframe thead th {\n",
       "        text-align: right;\n",
       "    }\n",
       "</style>\n",
       "<table border=\"1\" class=\"dataframe\">\n",
       "  <thead>\n",
       "    <tr style=\"text-align: right;\">\n",
       "      <th></th>\n",
       "      <th>Company</th>\n",
       "      <th>TypeName</th>\n",
       "      <th>Inches</th>\n",
       "      <th>ScreenResolution</th>\n",
       "      <th>Cpu</th>\n",
       "      <th>Ram</th>\n",
       "      <th>Memory</th>\n",
       "      <th>Gpu</th>\n",
       "      <th>OpSys</th>\n",
       "      <th>Weight</th>\n",
       "      <th>Price</th>\n",
       "      <th>Touch_Screen</th>\n",
       "    </tr>\n",
       "  </thead>\n",
       "  <tbody>\n",
       "    <tr>\n",
       "      <th>269</th>\n",
       "      <td>Lenovo</td>\n",
       "      <td>Notebook</td>\n",
       "      <td>15.6</td>\n",
       "      <td>Full HD 1920x1080</td>\n",
       "      <td>Intel Core i7 8550U 1.8GHz</td>\n",
       "      <td>8</td>\n",
       "      <td>256GB SSD</td>\n",
       "      <td>Intel UHD Graphics 620</td>\n",
       "      <td>Windows 10</td>\n",
       "      <td>2.05</td>\n",
       "      <td>46886.4000</td>\n",
       "      <td>0</td>\n",
       "    </tr>\n",
       "    <tr>\n",
       "      <th>353</th>\n",
       "      <td>HP</td>\n",
       "      <td>Workstation</td>\n",
       "      <td>15.6</td>\n",
       "      <td>Full HD 1920x1080</td>\n",
       "      <td>Intel Core i7 7700HQ 2.8GHz</td>\n",
       "      <td>8</td>\n",
       "      <td>256GB SSD</td>\n",
       "      <td>Nvidia Quadro M1200</td>\n",
       "      <td>Windows 10</td>\n",
       "      <td>2.6</td>\n",
       "      <td>92615.0256</td>\n",
       "      <td>0</td>\n",
       "    </tr>\n",
       "    <tr>\n",
       "      <th>1152</th>\n",
       "      <td>Lenovo</td>\n",
       "      <td>Notebook</td>\n",
       "      <td>15.6</td>\n",
       "      <td>Full HD 1920x1080</td>\n",
       "      <td>Intel Core i5 6200U 2.3GHz</td>\n",
       "      <td>8</td>\n",
       "      <td>1TB HDD</td>\n",
       "      <td>AMD Radeon R5 M330</td>\n",
       "      <td>No OS</td>\n",
       "      <td>2.32</td>\n",
       "      <td>31914.7200</td>\n",
       "      <td>0</td>\n",
       "    </tr>\n",
       "    <tr>\n",
       "      <th>1258</th>\n",
       "      <td>Lenovo</td>\n",
       "      <td>Notebook</td>\n",
       "      <td>15.6</td>\n",
       "      <td>Full HD 1920x1080</td>\n",
       "      <td>Intel Core i7 6500U 2.5GHz</td>\n",
       "      <td>8</td>\n",
       "      <td>1.0TB Hybrid</td>\n",
       "      <td>AMD Radeon R5 M330</td>\n",
       "      <td>Windows 7</td>\n",
       "      <td>2.32</td>\n",
       "      <td>47685.6000</td>\n",
       "      <td>0</td>\n",
       "    </tr>\n",
       "    <tr>\n",
       "      <th>395</th>\n",
       "      <td>HP</td>\n",
       "      <td>Ultrabook</td>\n",
       "      <td>15.6</td>\n",
       "      <td>Full HD 1920x1080</td>\n",
       "      <td>AMD A9-Series 9420 3GHz</td>\n",
       "      <td>4</td>\n",
       "      <td>256GB SSD</td>\n",
       "      <td>AMD Radeon 520</td>\n",
       "      <td>Windows 10</td>\n",
       "      <td>1.91</td>\n",
       "      <td>26586.7200</td>\n",
       "      <td>0</td>\n",
       "    </tr>\n",
       "  </tbody>\n",
       "</table>\n",
       "</div>"
      ],
      "text/plain": [
       "     Company     TypeName  Inches   ScreenResolution  \\\n",
       "269   Lenovo     Notebook    15.6  Full HD 1920x1080   \n",
       "353       HP  Workstation    15.6  Full HD 1920x1080   \n",
       "1152  Lenovo     Notebook    15.6  Full HD 1920x1080   \n",
       "1258  Lenovo     Notebook    15.6  Full HD 1920x1080   \n",
       "395       HP    Ultrabook    15.6  Full HD 1920x1080   \n",
       "\n",
       "                              Cpu Ram        Memory                     Gpu  \\\n",
       "269    Intel Core i7 8550U 1.8GHz   8     256GB SSD  Intel UHD Graphics 620   \n",
       "353   Intel Core i7 7700HQ 2.8GHz   8     256GB SSD     Nvidia Quadro M1200   \n",
       "1152   Intel Core i5 6200U 2.3GHz   8       1TB HDD      AMD Radeon R5 M330   \n",
       "1258   Intel Core i7 6500U 2.5GHz   8  1.0TB Hybrid      AMD Radeon R5 M330   \n",
       "395       AMD A9-Series 9420 3GHz   4     256GB SSD          AMD Radeon 520   \n",
       "\n",
       "           OpSys Weight       Price  Touch_Screen  \n",
       "269   Windows 10   2.05  46886.4000             0  \n",
       "353   Windows 10    2.6  92615.0256             0  \n",
       "1152       No OS   2.32  31914.7200             0  \n",
       "1258   Windows 7   2.32  47685.6000             0  \n",
       "395   Windows 10   1.91  26586.7200             0  "
      ]
     },
     "execution_count": 24,
     "metadata": {},
     "output_type": "execute_result"
    }
   ],
   "source": [
    "data.sample(5)"
   ]
  },
  {
   "cell_type": "code",
   "execution_count": 25,
   "id": "a9199687",
   "metadata": {},
   "outputs": [
    {
     "data": {
      "text/plain": [
       "0    1086\n",
       "1     188\n",
       "Name: Touch_Screen, dtype: int64"
      ]
     },
     "execution_count": 25,
     "metadata": {},
     "output_type": "execute_result"
    }
   ],
   "source": [
    "data[\"Touch_Screen\"].value_counts()"
   ]
  },
  {
   "cell_type": "code",
   "execution_count": 26,
   "id": "0cc86bf8",
   "metadata": {},
   "outputs": [
    {
     "data": {
      "image/png": "[encoded data removed]",
      "text/plain": [
       "<Figure size 720x504 with 1 Axes>"
      ]
     },
     "metadata": {},
     "output_type": "display_data"
    }
   ],
   "source": [
    "plt.figure(figsize = (10,7))\n",
    "plt.pie(data[\"Touch_Screen\"].value_counts(),labels = [\"Touch Screen\",\"Without Touch Screen\"], autopct = \"%.2f%%\")\n",
    "plt.title(\"Sold Laptop by Screen Category\",fontsize = 20);"
   ]
  },
  {
   "cell_type": "code",
   "execution_count": 27,
   "id": "e1404ae7",
   "metadata": {},
   "outputs": [
    {
     "data": {
      "image/png": "[encoded data removed]",
      "text/plain": [
       "<Figure size 720x504 with 1 Axes>"
      ]
     },
     "metadata": {
      "needs_background": "light"
     },
     "output_type": "display_data"
    }
   ],
   "source": [
    "plt.figure(figsize = (10,7))\n",
    "sns.barplot(x = data[\"Touch_Screen\"],y = data[\"Price\"])\n",
    "plt.xticks(rotation = \"vertical\");\n",
    "plt.title(\"Screen Type Vs Price\",fontsize = 20);"
   ]
  },
  {
   "cell_type": "markdown",
   "id": "ea424536",
   "metadata": {},
   "source": [
    "### Observation :-Touch Screen laptop's price are high"
   ]
  },
  {
   "cell_type": "code",
   "execution_count": 28,
   "id": "73d1ec3e",
   "metadata": {},
   "outputs": [],
   "source": [
    "# Creating column to know weather screen is IPS Enabled or not\n",
    "data[\"IPS\"] = data[\"ScreenResolution\"].apply(lambda x:1 if \"IPS\" in x else 0)"
   ]
  },
  {
   "cell_type": "code",
   "execution_count": 29,
   "id": "a43efdac",
   "metadata": {},
   "outputs": [
    {
     "data": {
      "text/html": [
       "<div>\n",
       "<style scoped>\n",
       "    .dataframe tbody tr th:only-of-type {\n",
       "        vertical-align: middle;\n",
       "    }\n",
       "\n",
       "    .dataframe tbody tr th {\n",
       "        vertical-align: top;\n",
       "    }\n",
       "\n",
       "    .dataframe thead th {\n",
       "        text-align: right;\n",
       "    }\n",
       "</style>\n",
       "<table border=\"1\" class=\"dataframe\">\n",
       "  <thead>\n",
       "    <tr style=\"text-align: right;\">\n",
       "      <th></th>\n",
       "      <th>Company</th>\n",
       "      <th>TypeName</th>\n",
       "      <th>Inches</th>\n",
       "      <th>ScreenResolution</th>\n",
       "      <th>Cpu</th>\n",
       "      <th>Ram</th>\n",
       "      <th>Memory</th>\n",
       "      <th>Gpu</th>\n",
       "      <th>OpSys</th>\n",
       "      <th>Weight</th>\n",
       "      <th>Price</th>\n",
       "      <th>Touch_Screen</th>\n",
       "      <th>IPS</th>\n",
       "    </tr>\n",
       "  </thead>\n",
       "  <tbody>\n",
       "    <tr>\n",
       "      <th>852</th>\n",
       "      <td>Dell</td>\n",
       "      <td>Notebook</td>\n",
       "      <td>17.3</td>\n",
       "      <td>Full HD 1920x1080</td>\n",
       "      <td>Intel Core i7 7500U 2.7GHz</td>\n",
       "      <td>8</td>\n",
       "      <td>1TB HDD</td>\n",
       "      <td>AMD Radeon R7 M445</td>\n",
       "      <td>Linux</td>\n",
       "      <td>2.83</td>\n",
       "      <td>46087.20</td>\n",
       "      <td>0</td>\n",
       "      <td>0</td>\n",
       "    </tr>\n",
       "    <tr>\n",
       "      <th>868</th>\n",
       "      <td>Acer</td>\n",
       "      <td>Notebook</td>\n",
       "      <td>14.0</td>\n",
       "      <td>IPS Panel Full HD 1920x1080</td>\n",
       "      <td>Intel Core i5 7200U 2.5GHz</td>\n",
       "      <td>8</td>\n",
       "      <td>256GB SSD</td>\n",
       "      <td>Intel HD Graphics 620</td>\n",
       "      <td>Windows 10</td>\n",
       "      <td>1.56</td>\n",
       "      <td>48058.56</td>\n",
       "      <td>0</td>\n",
       "      <td>1</td>\n",
       "    </tr>\n",
       "    <tr>\n",
       "      <th>1239</th>\n",
       "      <td>Lenovo</td>\n",
       "      <td>Notebook</td>\n",
       "      <td>13.3</td>\n",
       "      <td>IPS Panel Full HD 1920x1080</td>\n",
       "      <td>Intel Core i7 7500U 2.7GHz</td>\n",
       "      <td>16</td>\n",
       "      <td>512GB SSD</td>\n",
       "      <td>Intel HD Graphics 620</td>\n",
       "      <td>Windows 10</td>\n",
       "      <td>1.4</td>\n",
       "      <td>79866.72</td>\n",
       "      <td>0</td>\n",
       "      <td>1</td>\n",
       "    </tr>\n",
       "    <tr>\n",
       "      <th>1205</th>\n",
       "      <td>Dell</td>\n",
       "      <td>Notebook</td>\n",
       "      <td>15.6</td>\n",
       "      <td>Full HD 1920x1080</td>\n",
       "      <td>Intel Core i5 7200U 2.5GHz</td>\n",
       "      <td>8</td>\n",
       "      <td>256GB SSD</td>\n",
       "      <td>AMD Radeon R7 M445</td>\n",
       "      <td>Windows 10</td>\n",
       "      <td>2.36</td>\n",
       "      <td>47365.92</td>\n",
       "      <td>0</td>\n",
       "      <td>0</td>\n",
       "    </tr>\n",
       "    <tr>\n",
       "      <th>663</th>\n",
       "      <td>HP</td>\n",
       "      <td>Notebook</td>\n",
       "      <td>15.6</td>\n",
       "      <td>1920x1080</td>\n",
       "      <td>Intel Core i3 6006U 2GHz</td>\n",
       "      <td>6</td>\n",
       "      <td>1TB HDD</td>\n",
       "      <td>AMD Radeon R5 M430</td>\n",
       "      <td>Windows 10</td>\n",
       "      <td>2.04</td>\n",
       "      <td>28717.92</td>\n",
       "      <td>0</td>\n",
       "      <td>0</td>\n",
       "    </tr>\n",
       "  </tbody>\n",
       "</table>\n",
       "</div>"
      ],
      "text/plain": [
       "     Company  TypeName  Inches             ScreenResolution  \\\n",
       "852     Dell  Notebook    17.3            Full HD 1920x1080   \n",
       "868     Acer  Notebook    14.0  IPS Panel Full HD 1920x1080   \n",
       "1239  Lenovo  Notebook    13.3  IPS Panel Full HD 1920x1080   \n",
       "1205    Dell  Notebook    15.6            Full HD 1920x1080   \n",
       "663       HP  Notebook    15.6                    1920x1080   \n",
       "\n",
       "                             Cpu Ram     Memory                    Gpu  \\\n",
       "852   Intel Core i7 7500U 2.7GHz   8    1TB HDD     AMD Radeon R7 M445   \n",
       "868   Intel Core i5 7200U 2.5GHz   8  256GB SSD  Intel HD Graphics 620   \n",
       "1239  Intel Core i7 7500U 2.7GHz  16  512GB SSD  Intel HD Graphics 620   \n",
       "1205  Intel Core i5 7200U 2.5GHz   8  256GB SSD     AMD Radeon R7 M445   \n",
       "663     Intel Core i3 6006U 2GHz   6    1TB HDD     AMD Radeon R5 M430   \n",
       "\n",
       "           OpSys Weight     Price  Touch_Screen  IPS  \n",
       "852        Linux   2.83  46087.20             0    0  \n",
       "868   Windows 10   1.56  48058.56             0    1  \n",
       "1239  Windows 10    1.4  79866.72             0    1  \n",
       "1205  Windows 10   2.36  47365.92             0    0  \n",
       "663   Windows 10   2.04  28717.92             0    0  "
      ]
     },
     "execution_count": 29,
     "metadata": {},
     "output_type": "execute_result"
    }
   ],
   "source": [
    "data.sample(5)"
   ]
  },
  {
   "cell_type": "code",
   "execution_count": 30,
   "id": "d5a089e5",
   "metadata": {},
   "outputs": [
    {
     "data": {
      "text/plain": [
       "0    917\n",
       "1    357\n",
       "Name: IPS, dtype: int64"
      ]
     },
     "execution_count": 30,
     "metadata": {},
     "output_type": "execute_result"
    }
   ],
   "source": [
    "data[\"IPS\"].value_counts()"
   ]
  },
  {
   "cell_type": "code",
   "execution_count": 31,
   "id": "2850856f",
   "metadata": {},
   "outputs": [
    {
     "data": {
      "image/png": "[encoded data removed]",
      "text/plain": [
       "<Figure size 720x504 with 1 Axes>"
      ]
     },
     "metadata": {},
     "output_type": "display_data"
    }
   ],
   "source": [
    "plt.figure(figsize = (10,7))\n",
    "plt.pie(data[\"IPS\"].value_counts(),labels = [\"IPS Not Enabled\",\"IPS Enabled\"], autopct = \"%.2f%%\")\n",
    "plt.title(\"Sold Laptop by IPS Enabled\",fontsize = 20);"
   ]
  },
  {
   "cell_type": "code",
   "execution_count": 32,
   "id": "447dd5bb",
   "metadata": {},
   "outputs": [
    {
     "data": {
      "image/png": "[encoded data removed]",
      "text/plain": [
       "<Figure size 720x504 with 1 Axes>"
      ]
     },
     "metadata": {
      "needs_background": "light"
     },
     "output_type": "display_data"
    }
   ],
   "source": [
    "plt.figure(figsize = (10,7))\n",
    "sns.barplot(x = data[\"IPS\"],y = data[\"Price\"])\n",
    "plt.xticks(rotation = \"vertical\");\n",
    "plt.title(\"Screen Type Vs Price\",fontsize = 20);\n"
   ]
  },
  {
   "cell_type": "markdown",
   "id": "19476dfc",
   "metadata": {},
   "source": [
    "### Observation :- IPS enabled screen laptop's price are high"
   ]
  },
  {
   "cell_type": "code",
   "execution_count": 33,
   "id": "e01e24c8",
   "metadata": {},
   "outputs": [],
   "source": [
    "#Fetching Screen Size from Screen Resolution column\n",
    "new = data['ScreenResolution'].str.split('x',n=1,expand=True)"
   ]
  },
  {
   "cell_type": "code",
   "execution_count": 34,
   "id": "99a64321",
   "metadata": {},
   "outputs": [],
   "source": [
    "data[\"res_width\"] = new[0]\n",
    "data[\"res_height\"] = new[1]"
   ]
  },
  {
   "cell_type": "code",
   "execution_count": 35,
   "id": "ccc775bb",
   "metadata": {},
   "outputs": [],
   "source": [
    "data['res_width'] = data['res_width'].str.replace(',','').str.findall(r'(\\d+\\.?\\d+)').apply(lambda x:x[0])"
   ]
  },
  {
   "cell_type": "code",
   "execution_count": 36,
   "id": "6363fe86",
   "metadata": {},
   "outputs": [],
   "source": [
    "# Changing data types of columns\n",
    "data[\"Ram\"] = data[\"Ram\"].astype(\"int64\")\n",
    "data[\"Weight\"] = data[\"Weight\"].astype(\"float64\")\n",
    "data[\"Price\"] = data[\"Price\"].astype(\"int64\")\n",
    "data[\"res_width\"] = data[\"res_width\"].astype(\"int64\")\n",
    "data[\"res_height\"] = data[\"res_height\"].astype(\"int64\")"
   ]
  },
  {
   "cell_type": "code",
   "execution_count": 37,
   "id": "5e1469f3",
   "metadata": {},
   "outputs": [
    {
     "data": {
      "text/plain": [
       "Company              object\n",
       "TypeName             object\n",
       "Inches              float64\n",
       "ScreenResolution     object\n",
       "Cpu                  object\n",
       "Ram                   int64\n",
       "Memory               object\n",
       "Gpu                  object\n",
       "OpSys                object\n",
       "Weight              float64\n",
       "Price                 int64\n",
       "Touch_Screen          int64\n",
       "IPS                   int64\n",
       "res_width             int64\n",
       "res_height            int64\n",
       "dtype: object"
      ]
     },
     "execution_count": 37,
     "metadata": {},
     "output_type": "execute_result"
    }
   ],
   "source": [
    "data.dtypes"
   ]
  },
  {
   "cell_type": "code",
   "execution_count": null,
   "id": "348505ce",
   "metadata": {},
   "outputs": [],
   "source": []
  },
  {
   "cell_type": "markdown",
   "id": "77aeb652",
   "metadata": {},
   "source": [
    "### We have resolution width, resolution height and screen size, now we may calculate pixel per incehes, in other words pixel density using formula [square root of (square of width+ square of length) / Screen Size ]"
   ]
  },
  {
   "cell_type": "code",
   "execution_count": 38,
   "id": "a21c188f",
   "metadata": {},
   "outputs": [],
   "source": [
    "data[\"PPI\"] = ((data[\"res_width\"]**2) + (data[\"res_height\"]**2))**0.5/data[\"Inches\"].astype(\"float\")"
   ]
  },
  {
   "cell_type": "code",
   "execution_count": 39,
   "id": "45ac58e9",
   "metadata": {},
   "outputs": [
    {
     "data": {
      "text/plain": [
       "Inches          0.066990\n",
       "Ram             0.740106\n",
       "Weight          0.212192\n",
       "Price           1.000000\n",
       "Touch_Screen    0.188630\n",
       "IPS             0.250357\n",
       "res_width       0.552074\n",
       "res_height      0.548111\n",
       "PPI             0.469538\n",
       "Name: Price, dtype: float64"
      ]
     },
     "execution_count": 39,
     "metadata": {},
     "output_type": "execute_result"
    }
   ],
   "source": [
    "# Checking co-relation with price\n",
    "data.corr()[\"Price\"]"
   ]
  },
  {
   "cell_type": "code",
   "execution_count": 40,
   "id": "51ea5c07",
   "metadata": {},
   "outputs": [
    {
     "data": {
      "image/png": "[encoded data removed]",
      "text/plain": [
       "<Figure size 720x504 with 2 Axes>"
      ]
     },
     "metadata": {
      "needs_background": "light"
     },
     "output_type": "display_data"
    }
   ],
   "source": [
    "# Checking co-relation between independent column\n",
    "plt.figure(figsize = (10,7))\n",
    "sns.heatmap(data.corr(),annot= True);"
   ]
  },
  {
   "cell_type": "markdown",
   "id": "fbf99c13",
   "metadata": {},
   "source": [
    "### As we may see there is high co relation between res_width, res_height and PPI, that's why removing res_width and res_height for pretending multicollinearity"
   ]
  },
  {
   "cell_type": "code",
   "execution_count": 41,
   "id": "c81feb47",
   "metadata": {},
   "outputs": [],
   "source": [
    "data = data.drop([\"res_width\",\"res_height\"],axis = 1)\n",
    "\n",
    "# All the informations have been pulled from ScreenResolution columnc to other seperate column that's why removing this as well\n",
    "data = data.drop(\"ScreenResolution\",axis = 1)"
   ]
  },
  {
   "cell_type": "code",
   "execution_count": 42,
   "id": "42b63ace",
   "metadata": {},
   "outputs": [
    {
     "data": {
      "image/png": "[encoded data removed]",
      "text/plain": [
       "<Figure size 720x504 with 2 Axes>"
      ]
     },
     "metadata": {
      "needs_background": "light"
     },
     "output_type": "display_data"
    }
   ],
   "source": [
    "plt.figure(figsize = (10,7))\n",
    "sns.heatmap(data.corr(),annot= True);"
   ]
  },
  {
   "cell_type": "code",
   "execution_count": 43,
   "id": "a377f3b9",
   "metadata": {},
   "outputs": [
    {
     "data": {
      "text/plain": [
       "Intel Core i5 7200U 2.5GHz     190\n",
       "Intel Core i7 7700HQ 2.8GHz    146\n",
       "Intel Core i7 7500U 2.7GHz     132\n",
       "Intel Core i7 8550U 1.8GHz      73\n",
       "Intel Core i5 8250U 1.6GHz      72\n",
       "                              ... \n",
       "Intel Core M M3-6Y30 0.9GHz      1\n",
       "AMD A9-Series 9420 2.9GHz        1\n",
       "Intel Core i5 2.9GHz             1\n",
       "AMD A6-Series 7310 2GHz          1\n",
       "AMD A9-Series 9410 2.9GHz        1\n",
       "Name: Cpu, Length: 118, dtype: int64"
      ]
     },
     "execution_count": 43,
     "metadata": {},
     "output_type": "execute_result"
    }
   ],
   "source": [
    "data[\"Cpu\"].value_counts()"
   ]
  },
  {
   "cell_type": "markdown",
   "id": "6cf8d7cc",
   "metadata": {},
   "source": [
    "### There are so many categories in Cpu column that's why pulling  info. in seperate column"
   ]
  },
  {
   "cell_type": "code",
   "execution_count": 44,
   "id": "0300f2fa",
   "metadata": {},
   "outputs": [],
   "source": [
    "data[\"Cpu Name\"] = data[\"Cpu\"].apply(lambda x : \" \".join(x.split()[0:3]))"
   ]
  },
  {
   "cell_type": "code",
   "execution_count": 45,
   "id": "53d98d35",
   "metadata": {},
   "outputs": [
    {
     "data": {
      "text/plain": [
       "Intel Core i7               515\n",
       "Intel Core i5               423\n",
       "Intel Core i3               134\n",
       "Intel Celeron Dual           69\n",
       "Intel Pentium Quad           27\n",
       "Intel Core M                 17\n",
       "AMD A9-Series 9420           12\n",
       "AMD A6-Series 9220            8\n",
       "Intel Celeron Quad            8\n",
       "AMD A12-Series 9720P          7\n",
       "Intel Atom x5-Z8350           5\n",
       "Intel Atom x5-Z8550           4\n",
       "AMD A8-Series 7410            4\n",
       "Intel Pentium Dual            3\n",
       "AMD Ryzen 1700                3\n",
       "Intel Atom X5-Z8350           2\n",
       "Intel Xeon E3-1535M           2\n",
       "AMD A9-Series A9-9420         2\n",
       "AMD E-Series 7110             2\n",
       "AMD A10-Series 9620P          2\n",
       "AMD A10-Series 9600P          2\n",
       "AMD A6-Series A6-9220         2\n",
       "Intel Xeon E3-1505M           2\n",
       "AMD E-Series E2-9000e         2\n",
       "AMD A10-Series A10-9620P      2\n",
       "Intel Atom x5-Z8300           1\n",
       "AMD E-Series 9000             1\n",
       "Samsung Cortex A72&A53        1\n",
       "AMD FX 8800P                  1\n",
       "AMD A4-Series 7210            1\n",
       "AMD A12-Series 9700P          1\n",
       "AMD A6-Series 7310            1\n",
       "Intel Atom Z8350              1\n",
       "AMD E-Series E2-9000          1\n",
       "AMD E-Series E2-6110          1\n",
       "AMD FX 9830P                  1\n",
       "AMD E-Series 6110             1\n",
       "AMD Ryzen 1600                1\n",
       "AMD E-Series 9000e            1\n",
       "AMD A9-Series 9410            1\n",
       "Name: Cpu Name, dtype: int64"
      ]
     },
     "execution_count": 45,
     "metadata": {},
     "output_type": "execute_result"
    }
   ],
   "source": [
    "data[\"Cpu Name\"].value_counts()"
   ]
  },
  {
   "cell_type": "code",
   "execution_count": 46,
   "id": "bb3f7889",
   "metadata": {},
   "outputs": [],
   "source": [
    "def fetchcpu (text):\n",
    "    if text == \"Intel Core i7\" or text == \"Intel Core i5\" or text == \"Intel Core i3\":\n",
    "        return text\n",
    "    else:\n",
    "        if text.split()[0] == \"Intel\":\n",
    "            return \"Other Intel Processor\"\n",
    "        else:\n",
    "            return \"AMD Processor\""
   ]
  },
  {
   "cell_type": "code",
   "execution_count": 47,
   "id": "f8d506cc",
   "metadata": {},
   "outputs": [],
   "source": [
    "data[\"Cpu Brand\"] = data[\"Cpu Name\"].apply(fetchcpu)"
   ]
  },
  {
   "cell_type": "code",
   "execution_count": 48,
   "id": "d6d2cdfd",
   "metadata": {},
   "outputs": [
    {
     "data": {
      "text/html": [
       "<div>\n",
       "<style scoped>\n",
       "    .dataframe tbody tr th:only-of-type {\n",
       "        vertical-align: middle;\n",
       "    }\n",
       "\n",
       "    .dataframe tbody tr th {\n",
       "        vertical-align: top;\n",
       "    }\n",
       "\n",
       "    .dataframe thead th {\n",
       "        text-align: right;\n",
       "    }\n",
       "</style>\n",
       "<table border=\"1\" class=\"dataframe\">\n",
       "  <thead>\n",
       "    <tr style=\"text-align: right;\">\n",
       "      <th></th>\n",
       "      <th>Company</th>\n",
       "      <th>TypeName</th>\n",
       "      <th>Inches</th>\n",
       "      <th>Cpu</th>\n",
       "      <th>Ram</th>\n",
       "      <th>Memory</th>\n",
       "      <th>Gpu</th>\n",
       "      <th>OpSys</th>\n",
       "      <th>Weight</th>\n",
       "      <th>Price</th>\n",
       "      <th>Touch_Screen</th>\n",
       "      <th>IPS</th>\n",
       "      <th>PPI</th>\n",
       "      <th>Cpu Name</th>\n",
       "      <th>Cpu Brand</th>\n",
       "    </tr>\n",
       "  </thead>\n",
       "  <tbody>\n",
       "    <tr>\n",
       "      <th>1097</th>\n",
       "      <td>MSI</td>\n",
       "      <td>Gaming</td>\n",
       "      <td>17.3</td>\n",
       "      <td>Intel Core i7 6700HQ 2.6GHz</td>\n",
       "      <td>8</td>\n",
       "      <td>256GB SSD</td>\n",
       "      <td>Nvidia GeForce GTX 965M</td>\n",
       "      <td>Windows 10</td>\n",
       "      <td>2.60</td>\n",
       "      <td>85194</td>\n",
       "      <td>0</td>\n",
       "      <td>0</td>\n",
       "      <td>127.335675</td>\n",
       "      <td>Intel Core i7</td>\n",
       "      <td>Intel Core i7</td>\n",
       "    </tr>\n",
       "    <tr>\n",
       "      <th>543</th>\n",
       "      <td>Acer</td>\n",
       "      <td>Gaming</td>\n",
       "      <td>15.6</td>\n",
       "      <td>Intel Core i5 7300HQ 2.5GHz</td>\n",
       "      <td>8</td>\n",
       "      <td>1TB HDD</td>\n",
       "      <td>Nvidia GeForce GTX 1050</td>\n",
       "      <td>Linux</td>\n",
       "      <td>2.40</td>\n",
       "      <td>42517</td>\n",
       "      <td>0</td>\n",
       "      <td>0</td>\n",
       "      <td>141.211998</td>\n",
       "      <td>Intel Core i5</td>\n",
       "      <td>Intel Core i5</td>\n",
       "    </tr>\n",
       "    <tr>\n",
       "      <th>1228</th>\n",
       "      <td>Lenovo</td>\n",
       "      <td>Gaming</td>\n",
       "      <td>15.6</td>\n",
       "      <td>Intel Core i7 6700HQ 2.6GHz</td>\n",
       "      <td>16</td>\n",
       "      <td>128GB SSD +  1TB HDD</td>\n",
       "      <td>Nvidia GeForce GTX 960M</td>\n",
       "      <td>Windows 10</td>\n",
       "      <td>2.60</td>\n",
       "      <td>54825</td>\n",
       "      <td>1</td>\n",
       "      <td>1</td>\n",
       "      <td>141.211998</td>\n",
       "      <td>Intel Core i7</td>\n",
       "      <td>Intel Core i7</td>\n",
       "    </tr>\n",
       "    <tr>\n",
       "      <th>1138</th>\n",
       "      <td>MSI</td>\n",
       "      <td>Gaming</td>\n",
       "      <td>17.3</td>\n",
       "      <td>Intel Core i7 6820HQ 2.7GHz</td>\n",
       "      <td>16</td>\n",
       "      <td>256GB SSD +  1TB HDD</td>\n",
       "      <td>Nvidia GeForce GTX 980M</td>\n",
       "      <td>Windows 10</td>\n",
       "      <td>3.78</td>\n",
       "      <td>127818</td>\n",
       "      <td>0</td>\n",
       "      <td>0</td>\n",
       "      <td>127.335675</td>\n",
       "      <td>Intel Core i7</td>\n",
       "      <td>Intel Core i7</td>\n",
       "    </tr>\n",
       "  </tbody>\n",
       "</table>\n",
       "</div>"
      ],
      "text/plain": [
       "     Company TypeName  Inches                          Cpu  Ram  \\\n",
       "1097     MSI   Gaming    17.3  Intel Core i7 6700HQ 2.6GHz    8   \n",
       "543     Acer   Gaming    15.6  Intel Core i5 7300HQ 2.5GHz    8   \n",
       "1228  Lenovo   Gaming    15.6  Intel Core i7 6700HQ 2.6GHz   16   \n",
       "1138     MSI   Gaming    17.3  Intel Core i7 6820HQ 2.7GHz   16   \n",
       "\n",
       "                    Memory                      Gpu       OpSys  Weight  \\\n",
       "1097             256GB SSD  Nvidia GeForce GTX 965M  Windows 10    2.60   \n",
       "543                1TB HDD  Nvidia GeForce GTX 1050       Linux    2.40   \n",
       "1228  128GB SSD +  1TB HDD  Nvidia GeForce GTX 960M  Windows 10    2.60   \n",
       "1138  256GB SSD +  1TB HDD  Nvidia GeForce GTX 980M  Windows 10    3.78   \n",
       "\n",
       "       Price  Touch_Screen  IPS         PPI       Cpu Name      Cpu Brand  \n",
       "1097   85194             0    0  127.335675  Intel Core i7  Intel Core i7  \n",
       "543    42517             0    0  141.211998  Intel Core i5  Intel Core i5  \n",
       "1228   54825             1    1  141.211998  Intel Core i7  Intel Core i7  \n",
       "1138  127818             0    0  127.335675  Intel Core i7  Intel Core i7  "
      ]
     },
     "execution_count": 48,
     "metadata": {},
     "output_type": "execute_result"
    }
   ],
   "source": [
    "data.sample(4)"
   ]
  },
  {
   "cell_type": "code",
   "execution_count": 49,
   "id": "cd2c33a9",
   "metadata": {},
   "outputs": [
    {
     "data": {
      "text/plain": [
       "Intel Core i7            515\n",
       "Intel Core i5            423\n",
       "Other Intel Processor    141\n",
       "Intel Core i3            134\n",
       "AMD Processor             61\n",
       "Name: Cpu Brand, dtype: int64"
      ]
     },
     "execution_count": 49,
     "metadata": {},
     "output_type": "execute_result"
    }
   ],
   "source": [
    "data[\"Cpu Brand\"].value_counts()"
   ]
  },
  {
   "cell_type": "code",
   "execution_count": 50,
   "id": "a0812adf",
   "metadata": {},
   "outputs": [
    {
     "data": {
      "image/png": "[encoded data removed]",
      "text/plain": [
       "<Figure size 720x504 with 1 Axes>"
      ]
     },
     "metadata": {
      "needs_background": "light"
     },
     "output_type": "display_data"
    }
   ],
   "source": [
    "plt.figure(figsize = (10,7))\n",
    "sns.barplot(x = data[\"Cpu Brand\"].value_counts().index,y =data[\"Cpu Brand\"].value_counts().values )\n",
    "plt.xticks(rotation = \"vertical\");\n",
    "plt.title(\" Sold Laptop by Cpu Brand\",fontsize = 20);"
   ]
  },
  {
   "cell_type": "code",
   "execution_count": 51,
   "id": "ca382639",
   "metadata": {},
   "outputs": [
    {
     "data": {
      "image/png": "[encoded data removed]",
      "text/plain": [
       "<Figure size 720x504 with 1 Axes>"
      ]
     },
     "metadata": {
      "needs_background": "light"
     },
     "output_type": "display_data"
    }
   ],
   "source": [
    "plt.figure(figsize = (10,7))\n",
    "sns.barplot(x = data[\"Cpu Brand\"],y =data[\"Price\"])\n",
    "plt.xticks(rotation = \"vertical\");\n",
    "plt.title(\"Laptop Price by Cpu Brand\",fontsize = 20);"
   ]
  },
  {
   "cell_type": "code",
   "execution_count": 52,
   "id": "b5ac3290",
   "metadata": {},
   "outputs": [],
   "source": [
    "data = data.drop([\"Cpu\",\"Cpu Name\"],axis = 1)"
   ]
  },
  {
   "cell_type": "code",
   "execution_count": 53,
   "id": "c0eaeb44",
   "metadata": {},
   "outputs": [
    {
     "data": {
      "text/plain": [
       "256GB SSD                        412\n",
       "1TB HDD                          215\n",
       "500GB HDD                        123\n",
       "512GB SSD                        114\n",
       "128GB SSD +  1TB HDD              94\n",
       "128GB SSD                         74\n",
       "256GB SSD +  1TB HDD              73\n",
       "32GB Flash Storage                36\n",
       "2TB HDD                           16\n",
       "512GB SSD +  1TB HDD              14\n",
       "1TB SSD                           14\n",
       "64GB Flash Storage                13\n",
       "256GB SSD +  2TB HDD              10\n",
       "256GB Flash Storage                8\n",
       "16GB Flash Storage                 7\n",
       "1.0TB Hybrid                       7\n",
       "32GB SSD                           6\n",
       "180GB SSD                          5\n",
       "128GB Flash Storage                4\n",
       "512GB SSD +  2TB HDD               3\n",
       "16GB SSD                           3\n",
       "512GB Flash Storage                2\n",
       "1TB SSD +  1TB HDD                 2\n",
       "256GB SSD +  500GB HDD             2\n",
       "128GB SSD +  2TB HDD               2\n",
       "256GB SSD +  256GB SSD             2\n",
       "512GB SSD +  256GB SSD             1\n",
       "512GB SSD +  512GB SSD             1\n",
       "64GB Flash Storage +  1TB HDD      1\n",
       "1TB HDD +  1TB HDD                 1\n",
       "32GB HDD                           1\n",
       "64GB SSD                           1\n",
       "128GB HDD                          1\n",
       "240GB SSD                          1\n",
       "8GB SSD                            1\n",
       "508GB Hybrid                       1\n",
       "1.0TB HDD                          1\n",
       "512GB SSD +  1.0TB Hybrid          1\n",
       "256GB SSD +  1.0TB Hybrid          1\n",
       "Name: Memory, dtype: int64"
      ]
     },
     "execution_count": 53,
     "metadata": {},
     "output_type": "execute_result"
    }
   ],
   "source": [
    "data[\"Memory\"].value_counts()"
   ]
  },
  {
   "cell_type": "code",
   "execution_count": 54,
   "id": "773a959a",
   "metadata": {},
   "outputs": [
    {
     "data": {
      "image/png": "[encoded data removed]",
      "text/plain": [
       "<Figure size 720x504 with 1 Axes>"
      ]
     },
     "metadata": {
      "needs_background": "light"
     },
     "output_type": "display_data"
    }
   ],
   "source": [
    "plt.figure(figsize = (10,7))\n",
    "plt.plot(data[\"Memory\"].value_counts().index,data[\"Memory\"].value_counts().values,marker = \"*\")\n",
    "plt.xticks(rotation = \"vertical\")\n",
    "plt.title(\"Sold Laptop by Memory\",fontsize = 20);"
   ]
  },
  {
   "cell_type": "code",
   "execution_count": 55,
   "id": "807ccfff",
   "metadata": {},
   "outputs": [
    {
     "data": {
      "image/png": "[encoded data removed]",
      "text/plain": [
       "<Figure size 720x504 with 1 Axes>"
      ]
     },
     "metadata": {
      "needs_background": "light"
     },
     "output_type": "display_data"
    }
   ],
   "source": [
    "plt.figure(figsize = (10,7))\n",
    "sns.barplot(x = data[\"Memory\"],y =data[\"Price\"])\n",
    "plt.xticks(rotation = \"vertical\");\n",
    "plt.title(\"Laptop Price by Memory\",fontsize = 20);"
   ]
  },
  {
   "cell_type": "code",
   "execution_count": 56,
   "id": "30b311b3",
   "metadata": {},
   "outputs": [
    {
     "data": {
      "text/plain": [
       "Intel HD Graphics 620      279\n",
       "Intel HD Graphics 520      181\n",
       "Intel UHD Graphics 620      68\n",
       "Nvidia GeForce GTX 1050     66\n",
       "Nvidia GeForce GTX 1060     48\n",
       "                          ... \n",
       "AMD Radeon R5 520            1\n",
       "AMD Radeon R7                1\n",
       "Intel HD Graphics 540        1\n",
       "AMD Radeon 540               1\n",
       "ARM Mali T860 MP4            1\n",
       "Name: Gpu, Length: 110, dtype: int64"
      ]
     },
     "execution_count": 56,
     "metadata": {},
     "output_type": "execute_result"
    }
   ],
   "source": [
    "data[\"Gpu\"].value_counts()"
   ]
  },
  {
   "cell_type": "markdown",
   "id": "f0b57adb",
   "metadata": {},
   "source": [
    "### There are so many categories in Gpu as well column that's why pulling  info. in seperate column"
   ]
  },
  {
   "cell_type": "code",
   "execution_count": 57,
   "id": "71ba5bbd",
   "metadata": {},
   "outputs": [],
   "source": [
    "data[\"Gpu brand\"] = data[\"Gpu\"].apply(lambda x :x.split()[0])"
   ]
  },
  {
   "cell_type": "code",
   "execution_count": 58,
   "id": "d7a7ac90",
   "metadata": {},
   "outputs": [
    {
     "data": {
      "text/plain": [
       "Intel     703\n",
       "Nvidia    396\n",
       "AMD       174\n",
       "ARM         1\n",
       "Name: Gpu brand, dtype: int64"
      ]
     },
     "execution_count": 58,
     "metadata": {},
     "output_type": "execute_result"
    }
   ],
   "source": [
    "data[\"Gpu brand\"].value_counts()"
   ]
  },
  {
   "cell_type": "code",
   "execution_count": 59,
   "id": "84e2030e",
   "metadata": {},
   "outputs": [],
   "source": [
    "# There is only one entry is there regarding ARM That's why dropping that row\n",
    "data = data[data[\"Gpu brand\"]!=\"ARM\"]"
   ]
  },
  {
   "cell_type": "code",
   "execution_count": 60,
   "id": "2bcbde10",
   "metadata": {},
   "outputs": [],
   "source": [
    "data = data.drop(\"Gpu\",axis = 1)"
   ]
  },
  {
   "cell_type": "code",
   "execution_count": 61,
   "id": "fa1ad453",
   "metadata": {},
   "outputs": [
    {
     "data": {
      "image/png": "[encoded data removed]",
      "text/plain": [
       "<Figure size 720x504 with 1 Axes>"
      ]
     },
     "metadata": {
      "needs_background": "light"
     },
     "output_type": "display_data"
    }
   ],
   "source": [
    "plt.figure(figsize = (10,7))\n",
    "sns.barplot(x = data[\"Gpu brand\"].value_counts().index,y = data[\"Gpu brand\"].value_counts().values)\n",
    "plt.title(\"Sold Laptop by Gpu Brand\",fontsize = 20);"
   ]
  },
  {
   "cell_type": "code",
   "execution_count": 62,
   "id": "fb5e8b91",
   "metadata": {},
   "outputs": [
    {
     "data": {
      "image/png": "[encoded data removed]",
      "text/plain": [
       "<Figure size 720x504 with 1 Axes>"
      ]
     },
     "metadata": {
      "needs_background": "light"
     },
     "output_type": "display_data"
    }
   ],
   "source": [
    "plt.figure(figsize = (10,7))\n",
    "sns.barplot(x = data[\"Gpu brand\"],y = data[\"Price\"])\n",
    "plt.title(\"Price by Gpu Brand\",fontsize = 20);"
   ]
  },
  {
   "cell_type": "code",
   "execution_count": 63,
   "id": "64334caf",
   "metadata": {},
   "outputs": [
    {
     "data": {
      "text/plain": [
       "Windows 10      1047\n",
       "No OS             66\n",
       "Linux             58\n",
       "Windows 7         45\n",
       "Chrome OS         26\n",
       "macOS             13\n",
       "Mac OS X           8\n",
       "Windows 10 S       8\n",
       "Android            2\n",
       "Name: OpSys, dtype: int64"
      ]
     },
     "execution_count": 63,
     "metadata": {},
     "output_type": "execute_result"
    }
   ],
   "source": [
    "data[\"OpSys\"].value_counts()"
   ]
  },
  {
   "cell_type": "code",
   "execution_count": 64,
   "id": "fac0d34f",
   "metadata": {},
   "outputs": [],
   "source": [
    "def osystem (os):\n",
    "    if os == \"Windows 10\" or os == \"Windows 7\" or os == \"Windows 10 S\":\n",
    "        return \"windows\"\n",
    "    elif os == \"macOS\" or os == \"Mac OS X\":\n",
    "        return \"mac\"\n",
    "    else:\n",
    "        return \"no os/linux/chrome os\""
   ]
  },
  {
   "cell_type": "code",
   "execution_count": 65,
   "id": "452bb984",
   "metadata": {},
   "outputs": [],
   "source": [
    "data[\"OS\"] = data[\"OpSys\"].apply(osystem)"
   ]
  },
  {
   "cell_type": "code",
   "execution_count": 66,
   "id": "b3c7bc71",
   "metadata": {},
   "outputs": [
    {
     "data": {
      "text/html": [
       "<div>\n",
       "<style scoped>\n",
       "    .dataframe tbody tr th:only-of-type {\n",
       "        vertical-align: middle;\n",
       "    }\n",
       "\n",
       "    .dataframe tbody tr th {\n",
       "        vertical-align: top;\n",
       "    }\n",
       "\n",
       "    .dataframe thead th {\n",
       "        text-align: right;\n",
       "    }\n",
       "</style>\n",
       "<table border=\"1\" class=\"dataframe\">\n",
       "  <thead>\n",
       "    <tr style=\"text-align: right;\">\n",
       "      <th></th>\n",
       "      <th>Company</th>\n",
       "      <th>TypeName</th>\n",
       "      <th>Inches</th>\n",
       "      <th>Ram</th>\n",
       "      <th>Memory</th>\n",
       "      <th>OpSys</th>\n",
       "      <th>Weight</th>\n",
       "      <th>Price</th>\n",
       "      <th>Touch_Screen</th>\n",
       "      <th>IPS</th>\n",
       "      <th>PPI</th>\n",
       "      <th>Cpu Brand</th>\n",
       "      <th>Gpu brand</th>\n",
       "      <th>OS</th>\n",
       "    </tr>\n",
       "  </thead>\n",
       "  <tbody>\n",
       "    <tr>\n",
       "      <th>1236</th>\n",
       "      <td>HP</td>\n",
       "      <td>Ultrabook</td>\n",
       "      <td>14.0</td>\n",
       "      <td>8</td>\n",
       "      <td>256GB SSD</td>\n",
       "      <td>Windows 7</td>\n",
       "      <td>1.54</td>\n",
       "      <td>117119</td>\n",
       "      <td>0</td>\n",
       "      <td>0</td>\n",
       "      <td>209.800683</td>\n",
       "      <td>Intel Core i7</td>\n",
       "      <td>Intel</td>\n",
       "      <td>windows</td>\n",
       "    </tr>\n",
       "    <tr>\n",
       "      <th>247</th>\n",
       "      <td>Asus</td>\n",
       "      <td>Gaming</td>\n",
       "      <td>17.3</td>\n",
       "      <td>16</td>\n",
       "      <td>256GB SSD</td>\n",
       "      <td>Windows 10</td>\n",
       "      <td>3.60</td>\n",
       "      <td>159786</td>\n",
       "      <td>0</td>\n",
       "      <td>0</td>\n",
       "      <td>127.335675</td>\n",
       "      <td>Intel Core i7</td>\n",
       "      <td>Nvidia</td>\n",
       "      <td>windows</td>\n",
       "    </tr>\n",
       "    <tr>\n",
       "      <th>227</th>\n",
       "      <td>Asus</td>\n",
       "      <td>Notebook</td>\n",
       "      <td>15.6</td>\n",
       "      <td>8</td>\n",
       "      <td>256GB SSD</td>\n",
       "      <td>Windows 10</td>\n",
       "      <td>2.00</td>\n",
       "      <td>40972</td>\n",
       "      <td>0</td>\n",
       "      <td>0</td>\n",
       "      <td>141.211998</td>\n",
       "      <td>Intel Core i5</td>\n",
       "      <td>Nvidia</td>\n",
       "      <td>windows</td>\n",
       "    </tr>\n",
       "    <tr>\n",
       "      <th>150</th>\n",
       "      <td>Dell</td>\n",
       "      <td>Gaming</td>\n",
       "      <td>15.6</td>\n",
       "      <td>16</td>\n",
       "      <td>512GB SSD</td>\n",
       "      <td>Windows 10</td>\n",
       "      <td>2.56</td>\n",
       "      <td>66560</td>\n",
       "      <td>0</td>\n",
       "      <td>0</td>\n",
       "      <td>141.211998</td>\n",
       "      <td>Intel Core i7</td>\n",
       "      <td>Nvidia</td>\n",
       "      <td>windows</td>\n",
       "    </tr>\n",
       "  </tbody>\n",
       "</table>\n",
       "</div>"
      ],
      "text/plain": [
       "     Company   TypeName  Inches  Ram     Memory       OpSys  Weight   Price  \\\n",
       "1236      HP  Ultrabook    14.0    8  256GB SSD   Windows 7    1.54  117119   \n",
       "247     Asus     Gaming    17.3   16  256GB SSD  Windows 10    3.60  159786   \n",
       "227     Asus   Notebook    15.6    8  256GB SSD  Windows 10    2.00   40972   \n",
       "150     Dell     Gaming    15.6   16  512GB SSD  Windows 10    2.56   66560   \n",
       "\n",
       "      Touch_Screen  IPS         PPI      Cpu Brand Gpu brand       OS  \n",
       "1236             0    0  209.800683  Intel Core i7     Intel  windows  \n",
       "247              0    0  127.335675  Intel Core i7    Nvidia  windows  \n",
       "227              0    0  141.211998  Intel Core i5    Nvidia  windows  \n",
       "150              0    0  141.211998  Intel Core i7    Nvidia  windows  "
      ]
     },
     "execution_count": 66,
     "metadata": {},
     "output_type": "execute_result"
    }
   ],
   "source": [
    "data.sample(4)"
   ]
  },
  {
   "cell_type": "code",
   "execution_count": 67,
   "id": "f04bf35d",
   "metadata": {},
   "outputs": [],
   "source": [
    "data = data.drop([\"OpSys\",\"Memory\"],axis = 1)"
   ]
  },
  {
   "cell_type": "code",
   "execution_count": 68,
   "id": "2bccd72c",
   "metadata": {},
   "outputs": [
    {
     "data": {
      "text/plain": [
       "windows                  1100\n",
       "no os/linux/chrome os     152\n",
       "mac                        21\n",
       "Name: OS, dtype: int64"
      ]
     },
     "execution_count": 68,
     "metadata": {},
     "output_type": "execute_result"
    }
   ],
   "source": [
    "data[\"OS\"].value_counts()"
   ]
  },
  {
   "cell_type": "code",
   "execution_count": 69,
   "id": "7512b19d",
   "metadata": {},
   "outputs": [
    {
     "data": {
      "image/png": "[encoded data removed]",
      "text/plain": [
       "<Figure size 720x504 with 1 Axes>"
      ]
     },
     "metadata": {
      "needs_background": "light"
     },
     "output_type": "display_data"
    }
   ],
   "source": [
    "plt.figure(figsize = (10,7))\n",
    "sns.barplot(x = data[\"OS\"].value_counts().index,y = data[\"OS\"].value_counts().values)\n",
    "plt.title(\"Sold Laptop by Operating System\",fontsize = 20);"
   ]
  },
  {
   "cell_type": "code",
   "execution_count": 70,
   "id": "1a847349",
   "metadata": {},
   "outputs": [
    {
     "data": {
      "image/png": "[encoded data removed]",
      "text/plain": [
       "<Figure size 720x504 with 1 Axes>"
      ]
     },
     "metadata": {
      "needs_background": "light"
     },
     "output_type": "display_data"
    }
   ],
   "source": [
    "plt.figure(figsize = (10,7))\n",
    "sns.barplot(x = data[\"OS\"],y = data[\"Price\"])\n",
    "plt.title(\"Price by Operating System\",fontsize = 20);"
   ]
  },
  {
   "cell_type": "code",
   "execution_count": 71,
   "id": "86cf36fd",
   "metadata": {},
   "outputs": [
    {
     "data": {
      "image/png": "[encoded data removed]",
      "text/plain": [
       "<Figure size 720x504 with 1 Axes>"
      ]
     },
     "metadata": {
      "needs_background": "light"
     },
     "output_type": "display_data"
    }
   ],
   "source": [
    "plt.figure(figsize = (10,7))\n",
    "sns.scatterplot(x = data[\"Weight\"],y = data[\"Price\"])\n",
    "plt.title(\"Weight & Price\",fontsize = 20);"
   ]
  },
  {
   "cell_type": "markdown",
   "id": "60f8bc6e",
   "metadata": {},
   "source": [
    "# Model Building"
   ]
  },
  {
   "cell_type": "code",
   "execution_count": 72,
   "id": "ffba4c62",
   "metadata": {},
   "outputs": [],
   "source": [
    "# seperating data for target and independent variable\n",
    "y = data[\"Price\"]\n",
    "x = data.drop(\"Price\",axis = 1)"
   ]
  },
  {
   "cell_type": "code",
   "execution_count": 73,
   "id": "6b46dee9",
   "metadata": {},
   "outputs": [
    {
     "data": {
      "text/html": [
       "<div>\n",
       "<style scoped>\n",
       "    .dataframe tbody tr th:only-of-type {\n",
       "        vertical-align: middle;\n",
       "    }\n",
       "\n",
       "    .dataframe tbody tr th {\n",
       "        vertical-align: top;\n",
       "    }\n",
       "\n",
       "    .dataframe thead th {\n",
       "        text-align: right;\n",
       "    }\n",
       "</style>\n",
       "<table border=\"1\" class=\"dataframe\">\n",
       "  <thead>\n",
       "    <tr style=\"text-align: right;\">\n",
       "      <th></th>\n",
       "      <th>Company</th>\n",
       "      <th>TypeName</th>\n",
       "      <th>Inches</th>\n",
       "      <th>Ram</th>\n",
       "      <th>Weight</th>\n",
       "      <th>Touch_Screen</th>\n",
       "      <th>IPS</th>\n",
       "      <th>PPI</th>\n",
       "      <th>Cpu Brand</th>\n",
       "      <th>Gpu brand</th>\n",
       "      <th>OS</th>\n",
       "    </tr>\n",
       "  </thead>\n",
       "  <tbody>\n",
       "    <tr>\n",
       "      <th>0</th>\n",
       "      <td>Apple</td>\n",
       "      <td>Ultrabook</td>\n",
       "      <td>13.3</td>\n",
       "      <td>8</td>\n",
       "      <td>1.37</td>\n",
       "      <td>0</td>\n",
       "      <td>1</td>\n",
       "      <td>226.983005</td>\n",
       "      <td>Intel Core i5</td>\n",
       "      <td>Intel</td>\n",
       "      <td>mac</td>\n",
       "    </tr>\n",
       "    <tr>\n",
       "      <th>1</th>\n",
       "      <td>Apple</td>\n",
       "      <td>Ultrabook</td>\n",
       "      <td>13.3</td>\n",
       "      <td>8</td>\n",
       "      <td>1.34</td>\n",
       "      <td>0</td>\n",
       "      <td>0</td>\n",
       "      <td>127.677940</td>\n",
       "      <td>Intel Core i5</td>\n",
       "      <td>Intel</td>\n",
       "      <td>mac</td>\n",
       "    </tr>\n",
       "    <tr>\n",
       "      <th>2</th>\n",
       "      <td>HP</td>\n",
       "      <td>Notebook</td>\n",
       "      <td>15.6</td>\n",
       "      <td>8</td>\n",
       "      <td>1.86</td>\n",
       "      <td>0</td>\n",
       "      <td>0</td>\n",
       "      <td>141.211998</td>\n",
       "      <td>Intel Core i5</td>\n",
       "      <td>Intel</td>\n",
       "      <td>no os/linux/chrome os</td>\n",
       "    </tr>\n",
       "    <tr>\n",
       "      <th>3</th>\n",
       "      <td>Apple</td>\n",
       "      <td>Ultrabook</td>\n",
       "      <td>15.4</td>\n",
       "      <td>16</td>\n",
       "      <td>1.83</td>\n",
       "      <td>0</td>\n",
       "      <td>1</td>\n",
       "      <td>220.534624</td>\n",
       "      <td>Intel Core i7</td>\n",
       "      <td>AMD</td>\n",
       "      <td>mac</td>\n",
       "    </tr>\n",
       "    <tr>\n",
       "      <th>4</th>\n",
       "      <td>Apple</td>\n",
       "      <td>Ultrabook</td>\n",
       "      <td>13.3</td>\n",
       "      <td>8</td>\n",
       "      <td>1.37</td>\n",
       "      <td>0</td>\n",
       "      <td>1</td>\n",
       "      <td>226.983005</td>\n",
       "      <td>Intel Core i5</td>\n",
       "      <td>Intel</td>\n",
       "      <td>mac</td>\n",
       "    </tr>\n",
       "    <tr>\n",
       "      <th>...</th>\n",
       "      <td>...</td>\n",
       "      <td>...</td>\n",
       "      <td>...</td>\n",
       "      <td>...</td>\n",
       "      <td>...</td>\n",
       "      <td>...</td>\n",
       "      <td>...</td>\n",
       "      <td>...</td>\n",
       "      <td>...</td>\n",
       "      <td>...</td>\n",
       "      <td>...</td>\n",
       "    </tr>\n",
       "    <tr>\n",
       "      <th>1269</th>\n",
       "      <td>Asus</td>\n",
       "      <td>Notebook</td>\n",
       "      <td>15.6</td>\n",
       "      <td>4</td>\n",
       "      <td>2.20</td>\n",
       "      <td>0</td>\n",
       "      <td>0</td>\n",
       "      <td>100.454670</td>\n",
       "      <td>Intel Core i7</td>\n",
       "      <td>Nvidia</td>\n",
       "      <td>windows</td>\n",
       "    </tr>\n",
       "    <tr>\n",
       "      <th>1270</th>\n",
       "      <td>Lenovo</td>\n",
       "      <td>2 in 1 Convertible</td>\n",
       "      <td>14.0</td>\n",
       "      <td>4</td>\n",
       "      <td>1.80</td>\n",
       "      <td>1</td>\n",
       "      <td>1</td>\n",
       "      <td>157.350512</td>\n",
       "      <td>Intel Core i7</td>\n",
       "      <td>Intel</td>\n",
       "      <td>windows</td>\n",
       "    </tr>\n",
       "    <tr>\n",
       "      <th>1271</th>\n",
       "      <td>Lenovo</td>\n",
       "      <td>2 in 1 Convertible</td>\n",
       "      <td>13.3</td>\n",
       "      <td>16</td>\n",
       "      <td>1.30</td>\n",
       "      <td>1</td>\n",
       "      <td>1</td>\n",
       "      <td>276.053530</td>\n",
       "      <td>Intel Core i7</td>\n",
       "      <td>Intel</td>\n",
       "      <td>windows</td>\n",
       "    </tr>\n",
       "    <tr>\n",
       "      <th>1272</th>\n",
       "      <td>Lenovo</td>\n",
       "      <td>Notebook</td>\n",
       "      <td>14.0</td>\n",
       "      <td>2</td>\n",
       "      <td>1.50</td>\n",
       "      <td>0</td>\n",
       "      <td>0</td>\n",
       "      <td>111.935204</td>\n",
       "      <td>Other Intel Processor</td>\n",
       "      <td>Intel</td>\n",
       "      <td>windows</td>\n",
       "    </tr>\n",
       "    <tr>\n",
       "      <th>1273</th>\n",
       "      <td>HP</td>\n",
       "      <td>Notebook</td>\n",
       "      <td>15.6</td>\n",
       "      <td>6</td>\n",
       "      <td>2.19</td>\n",
       "      <td>0</td>\n",
       "      <td>0</td>\n",
       "      <td>100.454670</td>\n",
       "      <td>Intel Core i7</td>\n",
       "      <td>AMD</td>\n",
       "      <td>windows</td>\n",
       "    </tr>\n",
       "  </tbody>\n",
       "</table>\n",
       "<p>1273 rows × 11 columns</p>\n",
       "</div>"
      ],
      "text/plain": [
       "     Company            TypeName  Inches  Ram  Weight  Touch_Screen  IPS  \\\n",
       "0      Apple           Ultrabook    13.3    8    1.37             0    1   \n",
       "1      Apple           Ultrabook    13.3    8    1.34             0    0   \n",
       "2         HP            Notebook    15.6    8    1.86             0    0   \n",
       "3      Apple           Ultrabook    15.4   16    1.83             0    1   \n",
       "4      Apple           Ultrabook    13.3    8    1.37             0    1   \n",
       "...      ...                 ...     ...  ...     ...           ...  ...   \n",
       "1269    Asus            Notebook    15.6    4    2.20             0    0   \n",
       "1270  Lenovo  2 in 1 Convertible    14.0    4    1.80             1    1   \n",
       "1271  Lenovo  2 in 1 Convertible    13.3   16    1.30             1    1   \n",
       "1272  Lenovo            Notebook    14.0    2    1.50             0    0   \n",
       "1273      HP            Notebook    15.6    6    2.19             0    0   \n",
       "\n",
       "             PPI              Cpu Brand Gpu brand                     OS  \n",
       "0     226.983005          Intel Core i5     Intel                    mac  \n",
       "1     127.677940          Intel Core i5     Intel                    mac  \n",
       "2     141.211998          Intel Core i5     Intel  no os/linux/chrome os  \n",
       "3     220.534624          Intel Core i7       AMD                    mac  \n",
       "4     226.983005          Intel Core i5     Intel                    mac  \n",
       "...          ...                    ...       ...                    ...  \n",
       "1269  100.454670          Intel Core i7    Nvidia                windows  \n",
       "1270  157.350512          Intel Core i7     Intel                windows  \n",
       "1271  276.053530          Intel Core i7     Intel                windows  \n",
       "1272  111.935204  Other Intel Processor     Intel                windows  \n",
       "1273  100.454670          Intel Core i7       AMD                windows  \n",
       "\n",
       "[1273 rows x 11 columns]"
      ]
     },
     "execution_count": 73,
     "metadata": {},
     "output_type": "execute_result"
    }
   ],
   "source": [
    "x"
   ]
  },
  {
   "cell_type": "code",
   "execution_count": 74,
   "id": "18336d09",
   "metadata": {},
   "outputs": [
    {
     "data": {
      "text/plain": [
       "0        71378\n",
       "1        47895\n",
       "2        30636\n",
       "3       135195\n",
       "4        96095\n",
       "         ...  \n",
       "1269     38378\n",
       "1270     33992\n",
       "1271     79866\n",
       "1272     12201\n",
       "1273     40705\n",
       "Name: Price, Length: 1273, dtype: int64"
      ]
     },
     "execution_count": 74,
     "metadata": {},
     "output_type": "execute_result"
    }
   ],
   "source": [
    "y"
   ]
  },
  {
   "cell_type": "code",
   "execution_count": 75,
   "id": "89942bdd",
   "metadata": {},
   "outputs": [],
   "source": [
    "#splitting data into train test \n",
    "from sklearn.model_selection import train_test_split\n",
    "x_train,x_test,y_train,y_test = train_test_split(x,y,test_size = 0.3,random_state = 42)"
   ]
  },
  {
   "cell_type": "code",
   "execution_count": 76,
   "id": "23effd4b",
   "metadata": {},
   "outputs": [
    {
     "data": {
      "text/html": [
       "<div>\n",
       "<style scoped>\n",
       "    .dataframe tbody tr th:only-of-type {\n",
       "        vertical-align: middle;\n",
       "    }\n",
       "\n",
       "    .dataframe tbody tr th {\n",
       "        vertical-align: top;\n",
       "    }\n",
       "\n",
       "    .dataframe thead th {\n",
       "        text-align: right;\n",
       "    }\n",
       "</style>\n",
       "<table border=\"1\" class=\"dataframe\">\n",
       "  <thead>\n",
       "    <tr style=\"text-align: right;\">\n",
       "      <th></th>\n",
       "      <th>Company</th>\n",
       "      <th>TypeName</th>\n",
       "      <th>Inches</th>\n",
       "      <th>Ram</th>\n",
       "      <th>Weight</th>\n",
       "      <th>Touch_Screen</th>\n",
       "      <th>IPS</th>\n",
       "      <th>PPI</th>\n",
       "      <th>Cpu Brand</th>\n",
       "      <th>Gpu brand</th>\n",
       "      <th>OS</th>\n",
       "    </tr>\n",
       "  </thead>\n",
       "  <tbody>\n",
       "    <tr>\n",
       "      <th>567</th>\n",
       "      <td>Fujitsu</td>\n",
       "      <td>Notebook</td>\n",
       "      <td>15.6</td>\n",
       "      <td>8</td>\n",
       "      <td>2.20</td>\n",
       "      <td>0</td>\n",
       "      <td>0</td>\n",
       "      <td>100.454670</td>\n",
       "      <td>Intel Core i5</td>\n",
       "      <td>Intel</td>\n",
       "      <td>windows</td>\n",
       "    </tr>\n",
       "    <tr>\n",
       "      <th>545</th>\n",
       "      <td>HP</td>\n",
       "      <td>Notebook</td>\n",
       "      <td>15.6</td>\n",
       "      <td>4</td>\n",
       "      <td>2.10</td>\n",
       "      <td>0</td>\n",
       "      <td>0</td>\n",
       "      <td>141.211998</td>\n",
       "      <td>Intel Core i3</td>\n",
       "      <td>Intel</td>\n",
       "      <td>windows</td>\n",
       "    </tr>\n",
       "    <tr>\n",
       "      <th>644</th>\n",
       "      <td>Acer</td>\n",
       "      <td>Notebook</td>\n",
       "      <td>15.6</td>\n",
       "      <td>4</td>\n",
       "      <td>2.40</td>\n",
       "      <td>0</td>\n",
       "      <td>0</td>\n",
       "      <td>100.454670</td>\n",
       "      <td>Intel Core i3</td>\n",
       "      <td>Intel</td>\n",
       "      <td>windows</td>\n",
       "    </tr>\n",
       "    <tr>\n",
       "      <th>909</th>\n",
       "      <td>LG</td>\n",
       "      <td>Ultrabook</td>\n",
       "      <td>14.0</td>\n",
       "      <td>8</td>\n",
       "      <td>0.98</td>\n",
       "      <td>1</td>\n",
       "      <td>1</td>\n",
       "      <td>157.350512</td>\n",
       "      <td>Intel Core i7</td>\n",
       "      <td>Intel</td>\n",
       "      <td>windows</td>\n",
       "    </tr>\n",
       "    <tr>\n",
       "      <th>802</th>\n",
       "      <td>Dell</td>\n",
       "      <td>Ultrabook</td>\n",
       "      <td>13.3</td>\n",
       "      <td>8</td>\n",
       "      <td>1.29</td>\n",
       "      <td>0</td>\n",
       "      <td>0</td>\n",
       "      <td>165.632118</td>\n",
       "      <td>Intel Core i5</td>\n",
       "      <td>Intel</td>\n",
       "      <td>windows</td>\n",
       "    </tr>\n",
       "    <tr>\n",
       "      <th>...</th>\n",
       "      <td>...</td>\n",
       "      <td>...</td>\n",
       "      <td>...</td>\n",
       "      <td>...</td>\n",
       "      <td>...</td>\n",
       "      <td>...</td>\n",
       "      <td>...</td>\n",
       "      <td>...</td>\n",
       "      <td>...</td>\n",
       "      <td>...</td>\n",
       "      <td>...</td>\n",
       "    </tr>\n",
       "    <tr>\n",
       "      <th>1044</th>\n",
       "      <td>HP</td>\n",
       "      <td>Notebook</td>\n",
       "      <td>14.0</td>\n",
       "      <td>4</td>\n",
       "      <td>1.54</td>\n",
       "      <td>0</td>\n",
       "      <td>0</td>\n",
       "      <td>157.350512</td>\n",
       "      <td>Intel Core i5</td>\n",
       "      <td>Intel</td>\n",
       "      <td>windows</td>\n",
       "    </tr>\n",
       "    <tr>\n",
       "      <th>1095</th>\n",
       "      <td>Acer</td>\n",
       "      <td>Notebook</td>\n",
       "      <td>15.6</td>\n",
       "      <td>8</td>\n",
       "      <td>2.40</td>\n",
       "      <td>0</td>\n",
       "      <td>0</td>\n",
       "      <td>141.211998</td>\n",
       "      <td>Intel Core i5</td>\n",
       "      <td>Nvidia</td>\n",
       "      <td>windows</td>\n",
       "    </tr>\n",
       "    <tr>\n",
       "      <th>1130</th>\n",
       "      <td>HP</td>\n",
       "      <td>Notebook</td>\n",
       "      <td>15.6</td>\n",
       "      <td>8</td>\n",
       "      <td>2.04</td>\n",
       "      <td>0</td>\n",
       "      <td>0</td>\n",
       "      <td>100.454670</td>\n",
       "      <td>Intel Core i7</td>\n",
       "      <td>Intel</td>\n",
       "      <td>windows</td>\n",
       "    </tr>\n",
       "    <tr>\n",
       "      <th>860</th>\n",
       "      <td>Lenovo</td>\n",
       "      <td>Notebook</td>\n",
       "      <td>15.6</td>\n",
       "      <td>8</td>\n",
       "      <td>2.30</td>\n",
       "      <td>0</td>\n",
       "      <td>1</td>\n",
       "      <td>141.211998</td>\n",
       "      <td>Intel Core i5</td>\n",
       "      <td>Intel</td>\n",
       "      <td>windows</td>\n",
       "    </tr>\n",
       "    <tr>\n",
       "      <th>1126</th>\n",
       "      <td>Lenovo</td>\n",
       "      <td>2 in 1 Convertible</td>\n",
       "      <td>10.1</td>\n",
       "      <td>4</td>\n",
       "      <td>0.69</td>\n",
       "      <td>1</td>\n",
       "      <td>1</td>\n",
       "      <td>224.173809</td>\n",
       "      <td>Other Intel Processor</td>\n",
       "      <td>Intel</td>\n",
       "      <td>windows</td>\n",
       "    </tr>\n",
       "  </tbody>\n",
       "</table>\n",
       "<p>891 rows × 11 columns</p>\n",
       "</div>"
      ],
      "text/plain": [
       "      Company            TypeName  Inches  Ram  Weight  Touch_Screen  IPS  \\\n",
       "567   Fujitsu            Notebook    15.6    8    2.20             0    0   \n",
       "545        HP            Notebook    15.6    4    2.10             0    0   \n",
       "644      Acer            Notebook    15.6    4    2.40             0    0   \n",
       "909        LG           Ultrabook    14.0    8    0.98             1    1   \n",
       "802      Dell           Ultrabook    13.3    8    1.29             0    0   \n",
       "...       ...                 ...     ...  ...     ...           ...  ...   \n",
       "1044       HP            Notebook    14.0    4    1.54             0    0   \n",
       "1095     Acer            Notebook    15.6    8    2.40             0    0   \n",
       "1130       HP            Notebook    15.6    8    2.04             0    0   \n",
       "860    Lenovo            Notebook    15.6    8    2.30             0    1   \n",
       "1126   Lenovo  2 in 1 Convertible    10.1    4    0.69             1    1   \n",
       "\n",
       "             PPI              Cpu Brand Gpu brand       OS  \n",
       "567   100.454670          Intel Core i5     Intel  windows  \n",
       "545   141.211998          Intel Core i3     Intel  windows  \n",
       "644   100.454670          Intel Core i3     Intel  windows  \n",
       "909   157.350512          Intel Core i7     Intel  windows  \n",
       "802   165.632118          Intel Core i5     Intel  windows  \n",
       "...          ...                    ...       ...      ...  \n",
       "1044  157.350512          Intel Core i5     Intel  windows  \n",
       "1095  141.211998          Intel Core i5    Nvidia  windows  \n",
       "1130  100.454670          Intel Core i7     Intel  windows  \n",
       "860   141.211998          Intel Core i5     Intel  windows  \n",
       "1126  224.173809  Other Intel Processor     Intel  windows  \n",
       "\n",
       "[891 rows x 11 columns]"
      ]
     },
     "execution_count": 76,
     "metadata": {},
     "output_type": "execute_result"
    }
   ],
   "source": [
    "x_train"
   ]
  },
  {
   "cell_type": "code",
   "execution_count": 77,
   "id": "a5b6e7e4",
   "metadata": {},
   "outputs": [
    {
     "data": {
      "text/html": [
       "<div>\n",
       "<style scoped>\n",
       "    .dataframe tbody tr th:only-of-type {\n",
       "        vertical-align: middle;\n",
       "    }\n",
       "\n",
       "    .dataframe tbody tr th {\n",
       "        vertical-align: top;\n",
       "    }\n",
       "\n",
       "    .dataframe thead th {\n",
       "        text-align: right;\n",
       "    }\n",
       "</style>\n",
       "<table border=\"1\" class=\"dataframe\">\n",
       "  <thead>\n",
       "    <tr style=\"text-align: right;\">\n",
       "      <th></th>\n",
       "      <th>Company</th>\n",
       "      <th>TypeName</th>\n",
       "      <th>Inches</th>\n",
       "      <th>Ram</th>\n",
       "      <th>Weight</th>\n",
       "      <th>Touch_Screen</th>\n",
       "      <th>IPS</th>\n",
       "      <th>PPI</th>\n",
       "      <th>Cpu Brand</th>\n",
       "      <th>Gpu brand</th>\n",
       "      <th>OS</th>\n",
       "    </tr>\n",
       "  </thead>\n",
       "  <tbody>\n",
       "    <tr>\n",
       "      <th>43</th>\n",
       "      <td>Acer</td>\n",
       "      <td>Notebook</td>\n",
       "      <td>15.6</td>\n",
       "      <td>4</td>\n",
       "      <td>2.20</td>\n",
       "      <td>0</td>\n",
       "      <td>1</td>\n",
       "      <td>141.211998</td>\n",
       "      <td>Intel Core i5</td>\n",
       "      <td>Intel</td>\n",
       "      <td>windows</td>\n",
       "    </tr>\n",
       "    <tr>\n",
       "      <th>1160</th>\n",
       "      <td>Lenovo</td>\n",
       "      <td>Ultrabook</td>\n",
       "      <td>14.0</td>\n",
       "      <td>8</td>\n",
       "      <td>1.70</td>\n",
       "      <td>0</td>\n",
       "      <td>0</td>\n",
       "      <td>157.350512</td>\n",
       "      <td>Intel Core i7</td>\n",
       "      <td>Intel</td>\n",
       "      <td>windows</td>\n",
       "    </tr>\n",
       "    <tr>\n",
       "      <th>128</th>\n",
       "      <td>Dell</td>\n",
       "      <td>Notebook</td>\n",
       "      <td>17.3</td>\n",
       "      <td>16</td>\n",
       "      <td>2.80</td>\n",
       "      <td>0</td>\n",
       "      <td>0</td>\n",
       "      <td>127.335675</td>\n",
       "      <td>Intel Core i7</td>\n",
       "      <td>AMD</td>\n",
       "      <td>windows</td>\n",
       "    </tr>\n",
       "    <tr>\n",
       "      <th>1233</th>\n",
       "      <td>MSI</td>\n",
       "      <td>Gaming</td>\n",
       "      <td>17.3</td>\n",
       "      <td>16</td>\n",
       "      <td>2.70</td>\n",
       "      <td>0</td>\n",
       "      <td>0</td>\n",
       "      <td>127.335675</td>\n",
       "      <td>Intel Core i7</td>\n",
       "      <td>Nvidia</td>\n",
       "      <td>windows</td>\n",
       "    </tr>\n",
       "    <tr>\n",
       "      <th>1194</th>\n",
       "      <td>Dell</td>\n",
       "      <td>2 in 1 Convertible</td>\n",
       "      <td>13.3</td>\n",
       "      <td>8</td>\n",
       "      <td>1.60</td>\n",
       "      <td>1</td>\n",
       "      <td>1</td>\n",
       "      <td>165.632118</td>\n",
       "      <td>Intel Core i5</td>\n",
       "      <td>Intel</td>\n",
       "      <td>windows</td>\n",
       "    </tr>\n",
       "    <tr>\n",
       "      <th>...</th>\n",
       "      <td>...</td>\n",
       "      <td>...</td>\n",
       "      <td>...</td>\n",
       "      <td>...</td>\n",
       "      <td>...</td>\n",
       "      <td>...</td>\n",
       "      <td>...</td>\n",
       "      <td>...</td>\n",
       "      <td>...</td>\n",
       "      <td>...</td>\n",
       "      <td>...</td>\n",
       "    </tr>\n",
       "    <tr>\n",
       "      <th>579</th>\n",
       "      <td>Dell</td>\n",
       "      <td>Notebook</td>\n",
       "      <td>15.6</td>\n",
       "      <td>8</td>\n",
       "      <td>2.20</td>\n",
       "      <td>0</td>\n",
       "      <td>0</td>\n",
       "      <td>141.211998</td>\n",
       "      <td>Intel Core i7</td>\n",
       "      <td>AMD</td>\n",
       "      <td>no os/linux/chrome os</td>\n",
       "    </tr>\n",
       "    <tr>\n",
       "      <th>630</th>\n",
       "      <td>Asus</td>\n",
       "      <td>Ultrabook</td>\n",
       "      <td>14.0</td>\n",
       "      <td>16</td>\n",
       "      <td>1.10</td>\n",
       "      <td>0</td>\n",
       "      <td>0</td>\n",
       "      <td>157.350512</td>\n",
       "      <td>Intel Core i7</td>\n",
       "      <td>Intel</td>\n",
       "      <td>windows</td>\n",
       "    </tr>\n",
       "    <tr>\n",
       "      <th>5</th>\n",
       "      <td>Acer</td>\n",
       "      <td>Notebook</td>\n",
       "      <td>15.6</td>\n",
       "      <td>4</td>\n",
       "      <td>2.10</td>\n",
       "      <td>0</td>\n",
       "      <td>0</td>\n",
       "      <td>100.454670</td>\n",
       "      <td>AMD Processor</td>\n",
       "      <td>AMD</td>\n",
       "      <td>windows</td>\n",
       "    </tr>\n",
       "    <tr>\n",
       "      <th>100</th>\n",
       "      <td>HP</td>\n",
       "      <td>Notebook</td>\n",
       "      <td>15.6</td>\n",
       "      <td>8</td>\n",
       "      <td>1.91</td>\n",
       "      <td>0</td>\n",
       "      <td>0</td>\n",
       "      <td>141.211998</td>\n",
       "      <td>Intel Core i7</td>\n",
       "      <td>AMD</td>\n",
       "      <td>windows</td>\n",
       "    </tr>\n",
       "    <tr>\n",
       "      <th>710</th>\n",
       "      <td>Lenovo</td>\n",
       "      <td>Gaming</td>\n",
       "      <td>15.6</td>\n",
       "      <td>8</td>\n",
       "      <td>2.50</td>\n",
       "      <td>0</td>\n",
       "      <td>1</td>\n",
       "      <td>141.211998</td>\n",
       "      <td>Intel Core i7</td>\n",
       "      <td>Nvidia</td>\n",
       "      <td>windows</td>\n",
       "    </tr>\n",
       "  </tbody>\n",
       "</table>\n",
       "<p>382 rows × 11 columns</p>\n",
       "</div>"
      ],
      "text/plain": [
       "     Company            TypeName  Inches  Ram  Weight  Touch_Screen  IPS  \\\n",
       "43      Acer            Notebook    15.6    4    2.20             0    1   \n",
       "1160  Lenovo           Ultrabook    14.0    8    1.70             0    0   \n",
       "128     Dell            Notebook    17.3   16    2.80             0    0   \n",
       "1233     MSI              Gaming    17.3   16    2.70             0    0   \n",
       "1194    Dell  2 in 1 Convertible    13.3    8    1.60             1    1   \n",
       "...      ...                 ...     ...  ...     ...           ...  ...   \n",
       "579     Dell            Notebook    15.6    8    2.20             0    0   \n",
       "630     Asus           Ultrabook    14.0   16    1.10             0    0   \n",
       "5       Acer            Notebook    15.6    4    2.10             0    0   \n",
       "100       HP            Notebook    15.6    8    1.91             0    0   \n",
       "710   Lenovo              Gaming    15.6    8    2.50             0    1   \n",
       "\n",
       "             PPI      Cpu Brand Gpu brand                     OS  \n",
       "43    141.211998  Intel Core i5     Intel                windows  \n",
       "1160  157.350512  Intel Core i7     Intel                windows  \n",
       "128   127.335675  Intel Core i7       AMD                windows  \n",
       "1233  127.335675  Intel Core i7    Nvidia                windows  \n",
       "1194  165.632118  Intel Core i5     Intel                windows  \n",
       "...          ...            ...       ...                    ...  \n",
       "579   141.211998  Intel Core i7       AMD  no os/linux/chrome os  \n",
       "630   157.350512  Intel Core i7     Intel                windows  \n",
       "5     100.454670  AMD Processor       AMD                windows  \n",
       "100   141.211998  Intel Core i7       AMD                windows  \n",
       "710   141.211998  Intel Core i7    Nvidia                windows  \n",
       "\n",
       "[382 rows x 11 columns]"
      ]
     },
     "execution_count": 77,
     "metadata": {},
     "output_type": "execute_result"
    }
   ],
   "source": [
    "x_test"
   ]
  },
  {
   "cell_type": "code",
   "execution_count": 78,
   "id": "c697f2d0",
   "metadata": {},
   "outputs": [],
   "source": [
    "# importing one hot encoder to encode the categorical column\n",
    "\n",
    "from sklearn.preprocessing import OneHotEncoder\n",
    "ohe = OneHotEncoder(drop = \"first\")"
   ]
  },
  {
   "cell_type": "code",
   "execution_count": 79,
   "id": "2fc4a4cc",
   "metadata": {},
   "outputs": [],
   "source": [
    "# converting categorical column into numeric\n",
    "\n",
    "x_train_new = ohe.fit_transform(x_train[[\"Company\",\"TypeName\",\"Cpu Brand\",\"Gpu brand\",\"OS\"]]).toarray()\n",
    "x_test_new = ohe.transform(x_test[[\"Company\",\"TypeName\",\"Cpu Brand\",\"Gpu brand\",\"OS\"]]).toarray()"
   ]
  },
  {
   "cell_type": "code",
   "execution_count": 80,
   "id": "340f3b7b",
   "metadata": {},
   "outputs": [],
   "source": [
    "# adding converted column into data\n",
    "\n",
    "x_train = np.hstack((x_train[[\"Inches\",\"Ram\",\"Weight\",\"Touch_Screen\",\"IPS\",\"PPI\"]].values,x_train_new))\n",
    "x_test =  np.hstack((x_test[[\"Inches\",\"Ram\",\"Weight\",\"Touch_Screen\",\"IPS\",\"PPI\"]].values,x_test_new))\n"
   ]
  },
  {
   "cell_type": "code",
   "execution_count": 81,
   "id": "32b5cbb3",
   "metadata": {},
   "outputs": [],
   "source": [
    "# importing machine learning model\n",
    "\n",
    "from sklearn.linear_model import LinearRegression\n",
    "reg = LinearRegression()"
   ]
  },
  {
   "cell_type": "code",
   "execution_count": 82,
   "id": "d924aaed",
   "metadata": {},
   "outputs": [
    {
     "data": {
      "text/plain": [
       "LinearRegression()"
      ]
     },
     "execution_count": 82,
     "metadata": {},
     "output_type": "execute_result"
    }
   ],
   "source": [
    "# fitting data into model\n",
    "\n",
    "reg.fit(x_train,y_train)"
   ]
  },
  {
   "cell_type": "code",
   "execution_count": 83,
   "id": "0bc68ad6",
   "metadata": {},
   "outputs": [],
   "source": [
    "# testing model\n",
    "\n",
    "y_pred = reg.predict(x_test)"
   ]
  },
  {
   "cell_type": "code",
   "execution_count": 84,
   "id": "271ad0a4",
   "metadata": {},
   "outputs": [],
   "source": [
    "# importing mean_absolute_error,r2_score,mean_squared_error for model evaluation\n",
    "\n",
    "from sklearn.metrics import mean_absolute_error,r2_score,mean_squared_error"
   ]
  },
  {
   "cell_type": "code",
   "execution_count": 85,
   "id": "357533d8",
   "metadata": {},
   "outputs": [
    {
     "name": "stdout",
     "output_type": "stream",
     "text": [
      "MAE --> 14028.037194369124\n",
      "R2 Score --> 0.7085316873603243\n",
      "RMSE --> 20589.89067096226\n"
     ]
    }
   ],
   "source": [
    "# evaluating the model\n",
    "\n",
    "print(\"MAE -->\",mean_absolute_error(y_test,y_pred))\n",
    "print(\"R2 Score -->\",r2_score(y_test,y_pred))\n",
    "print(\"RMSE -->\",np.sqrt(mean_squared_error(y_test,y_pred)))"
   ]
  },
  {
   "cell_type": "markdown",
   "id": "d1470bee",
   "metadata": {},
   "source": [
    "### R2 score is good but MAE and RMSE are not acceptable"
   ]
  },
  {
   "cell_type": "code",
   "execution_count": null,
   "id": "6c62caf0",
   "metadata": {},
   "outputs": [],
   "source": []
  },
  {
   "cell_type": "markdown",
   "id": "bebf5e3c",
   "metadata": {},
   "source": [
    "### I observed while performing EDA that price column was positively skewed that's why going to apply log transformation for reducing error"
   ]
  },
  {
   "cell_type": "code",
   "execution_count": 86,
   "id": "172ba594",
   "metadata": {},
   "outputs": [
    {
     "data": {
      "image/png": "[encoded data removed]",
      "text/plain": [
       "<Figure size 432x288 with 1 Axes>"
      ]
     },
     "metadata": {
      "needs_background": "light"
     },
     "output_type": "display_data"
    }
   ],
   "source": [
    "sns.distplot(y);"
   ]
  },
  {
   "cell_type": "code",
   "execution_count": 87,
   "id": "c4f36ce7",
   "metadata": {},
   "outputs": [
    {
     "data": {
      "image/png": "[encoded data removed]",
      "text/plain": [
       "<Figure size 432x288 with 1 Axes>"
      ]
     },
     "metadata": {
      "needs_background": "light"
     },
     "output_type": "display_data"
    }
   ],
   "source": [
    "#target column is positively skewed it should be normally distributed that's why applying log transformation\n",
    "\n",
    "sns.distplot(np.log(y));"
   ]
  },
  {
   "cell_type": "code",
   "execution_count": 88,
   "id": "dd93b968",
   "metadata": {},
   "outputs": [],
   "source": [
    "# seperating data for target and independent variable\n",
    "y_new = np.log(data[\"Price\"])\n",
    "x_new = data.drop(\"Price\",axis = 1)"
   ]
  },
  {
   "cell_type": "code",
   "execution_count": 89,
   "id": "3bc906c0",
   "metadata": {},
   "outputs": [],
   "source": [
    "#splitting data into train test \n",
    "from sklearn.model_selection import train_test_split\n",
    "x_train,x_test,y_train,y_test= train_test_split(x_new,y_new,test_size = 0.3,random_state = 42)"
   ]
  },
  {
   "cell_type": "code",
   "execution_count": 90,
   "id": "35fa677f",
   "metadata": {},
   "outputs": [],
   "source": [
    "# transforming categorical column into numeric\n",
    "\n",
    "x_train_new = ohe.fit_transform(x_train[[\"Company\",\"TypeName\",\"Cpu Brand\",\"Gpu brand\",\"OS\"]]).toarray()\n",
    "x_test_new = ohe.transform(x_test[[\"Company\",\"TypeName\",\"Cpu Brand\",\"Gpu brand\",\"OS\"]]).toarray()"
   ]
  },
  {
   "cell_type": "code",
   "execution_count": 91,
   "id": "afa01ac6",
   "metadata": {},
   "outputs": [],
   "source": [
    "# adding encoded columns to data\n",
    "\n",
    "x_train = np.hstack((x_train[[\"Inches\",\"Ram\",\"Weight\",\"Touch_Screen\",\"IPS\",\"PPI\"]].values,x_train_new))\n",
    "x_test =  np.hstack((x_test[[\"Inches\",\"Ram\",\"Weight\",\"Touch_Screen\",\"IPS\",\"PPI\"]].values,x_test_new))\n"
   ]
  },
  {
   "cell_type": "code",
   "execution_count": 92,
   "id": "635b43a4",
   "metadata": {},
   "outputs": [
    {
     "data": {
      "text/plain": [
       "LinearRegression()"
      ]
     },
     "execution_count": 92,
     "metadata": {},
     "output_type": "execute_result"
    }
   ],
   "source": [
    "# fitting data into model\n",
    "reg.fit(x_train,y_train)"
   ]
  },
  {
   "cell_type": "code",
   "execution_count": 93,
   "id": "cdfe1623",
   "metadata": {},
   "outputs": [],
   "source": [
    "# testing model \n",
    "\n",
    "y_pred = reg.predict(x_test)"
   ]
  },
  {
   "cell_type": "code",
   "execution_count": 94,
   "id": "e6ed7a86",
   "metadata": {},
   "outputs": [
    {
     "name": "stdout",
     "output_type": "stream",
     "text": [
      "MAE --> 0.22034593615296844\n",
      "R2 Score --> 0.7909494252799832\n",
      "RMSE --> 0.28744586964039365\n"
     ]
    }
   ],
   "source": [
    "# evaluating the model\n",
    "\n",
    "print(\"MAE -->\",mean_absolute_error(y_test,y_pred))\n",
    "print(\"R2 Score -->\",r2_score(y_test,y_pred))\n",
    "print(\"RMSE -->\",np.sqrt(mean_squared_error(y_test,y_pred)))"
   ]
  },
  {
   "cell_type": "markdown",
   "id": "d255af93",
   "metadata": {},
   "source": [
    "### After log transformation model accuracy has been increased"
   ]
  },
  {
   "cell_type": "code",
   "execution_count": null,
   "id": "0fe2fd14",
   "metadata": {},
   "outputs": [],
   "source": []
  },
  {
   "cell_type": "code",
   "execution_count": 95,
   "id": "4d7a52ae",
   "metadata": {},
   "outputs": [],
   "source": [
    "# will try to inhance the model accuracy by scalling down the features for"
   ]
  },
  {
   "cell_type": "code",
   "execution_count": 96,
   "id": "2f3b421e",
   "metadata": {},
   "outputs": [],
   "source": [
    "#importing standard scaler for scalling the feature\n",
    "\n",
    "from sklearn.preprocessing import StandardScaler\n",
    "Scaler = StandardScaler()"
   ]
  },
  {
   "cell_type": "code",
   "execution_count": 97,
   "id": "c028350e",
   "metadata": {},
   "outputs": [],
   "source": [
    "# Scalling down the feature\n",
    "\n",
    "x_train = Scaler.fit_transform(x_train)\n",
    "x_test =  Scaler.transform(x_test)"
   ]
  },
  {
   "cell_type": "code",
   "execution_count": 98,
   "id": "a0942ad1",
   "metadata": {},
   "outputs": [
    {
     "data": {
      "text/plain": [
       "LinearRegression()"
      ]
     },
     "execution_count": 98,
     "metadata": {},
     "output_type": "execute_result"
    }
   ],
   "source": [
    "# fitting data into model after Scalling\n",
    "\n",
    "reg.fit(x_train,y_train)"
   ]
  },
  {
   "cell_type": "code",
   "execution_count": 99,
   "id": "f0e67490",
   "metadata": {},
   "outputs": [],
   "source": [
    "# testing the model\n",
    "\n",
    "y_pred = reg.predict(x_test)"
   ]
  },
  {
   "cell_type": "code",
   "execution_count": 100,
   "id": "87a29103",
   "metadata": {},
   "outputs": [
    {
     "name": "stdout",
     "output_type": "stream",
     "text": [
      "MAE --> 0.22034800238845675\n",
      "R2 Score --> 0.7909121773672864\n",
      "RMSE --> 0.2874714765582194\n"
     ]
    }
   ],
   "source": [
    "#evaluating the model\n",
    "print(\"MAE -->\",mean_absolute_error(y_test,y_pred))\n",
    "print(\"R2 Score -->\",r2_score(y_test,y_pred))\n",
    "print(\"RMSE -->\",np.sqrt(mean_squared_error(y_test,y_pred)))"
   ]
  },
  {
   "cell_type": "code",
   "execution_count": 103,
   "id": "6e64423a",
   "metadata": {},
   "outputs": [
    {
     "data": {
      "image/png": "[encoded data removed]",
      "text/plain": [
       "<Figure size 432x288 with 1 Axes>"
      ]
     },
     "metadata": {
      "needs_background": "light"
     },
     "output_type": "display_data"
    }
   ],
   "source": [
    "#justifying error\n",
    "\n",
    "sns.scatterplot(y_test,y_pred)\n",
    "plt.xlabel(\"Predicted\")\n",
    "plt.ylabel(\"True\");"
   ]
  },
  {
   "cell_type": "code",
   "execution_count": null,
   "id": "c539067b",
   "metadata": {},
   "outputs": [],
   "source": []
  }
 ],
 "metadata": {
  "kernelspec": {
   "display_name": "Python 3 (ipykernel)",
   "language": "python",
   "name": "python3"
  },
  "language_info": {
   "codemirror_mode": {
    "name": "ipython",
    "version": 3
   },
   "file_extension": ".py",
   "mimetype": "text/x-python",
   "name": "python",
   "nbconvert_exporter": "python",
   "pygments_lexer": "ipython3",
   "version": "3.9.12"
  }
 },
 "nbformat": 4,
 "nbformat_minor": 5
}
